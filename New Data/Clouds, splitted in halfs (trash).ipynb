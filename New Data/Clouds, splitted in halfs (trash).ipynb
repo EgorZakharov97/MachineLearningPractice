{
 "cells": [
  {
   "cell_type": "code",
   "execution_count": 2,
   "metadata": {},
   "outputs": [],
   "source": [
    "from warnings import simplefilter\n",
    "from sklearn.decomposition import PCA\n",
    "simplefilter(action='ignore', category=FutureWarning)\n",
    "import pandas as pd\n",
    "import numpy as np"
   ]
  },
  {
   "cell_type": "code",
   "execution_count": 3,
   "metadata": {},
   "outputs": [
    {
     "data": {
      "text/html": [
       "<div>\n",
       "<style scoped>\n",
       "    .dataframe tbody tr th:only-of-type {\n",
       "        vertical-align: middle;\n",
       "    }\n",
       "\n",
       "    .dataframe tbody tr th {\n",
       "        vertical-align: top;\n",
       "    }\n",
       "\n",
       "    .dataframe thead th {\n",
       "        text-align: right;\n",
       "    }\n",
       "</style>\n",
       "<table border=\"1\" class=\"dataframe\">\n",
       "  <thead>\n",
       "    <tr style=\"text-align: right;\">\n",
       "      <th></th>\n",
       "      <th>wPt.0538</th>\n",
       "      <th>wPt.8463</th>\n",
       "      <th>wPt.6348</th>\n",
       "      <th>wPt.9992</th>\n",
       "      <th>wPt.2838</th>\n",
       "      <th>wPt.8266</th>\n",
       "      <th>wPt.1100</th>\n",
       "      <th>wPt.0653</th>\n",
       "      <th>wPt.4418</th>\n",
       "      <th>wPt.2152</th>\n",
       "      <th>...</th>\n",
       "      <th>c.408290</th>\n",
       "      <th>c.408294</th>\n",
       "      <th>c.408330</th>\n",
       "      <th>c.408336</th>\n",
       "      <th>c.408375</th>\n",
       "      <th>c.408393</th>\n",
       "      <th>c.408422</th>\n",
       "      <th>c.408424</th>\n",
       "      <th>c.408426</th>\n",
       "      <th>c.408443</th>\n",
       "    </tr>\n",
       "    <tr>\n",
       "      <th>index</th>\n",
       "      <th></th>\n",
       "      <th></th>\n",
       "      <th></th>\n",
       "      <th></th>\n",
       "      <th></th>\n",
       "      <th></th>\n",
       "      <th></th>\n",
       "      <th></th>\n",
       "      <th></th>\n",
       "      <th></th>\n",
       "      <th></th>\n",
       "      <th></th>\n",
       "      <th></th>\n",
       "      <th></th>\n",
       "      <th></th>\n",
       "      <th></th>\n",
       "      <th></th>\n",
       "      <th></th>\n",
       "      <th></th>\n",
       "      <th></th>\n",
       "      <th></th>\n",
       "    </tr>\n",
       "  </thead>\n",
       "  <tbody>\n",
       "    <tr>\n",
       "      <th>0</th>\n",
       "      <td>0</td>\n",
       "      <td>1</td>\n",
       "      <td>1</td>\n",
       "      <td>1</td>\n",
       "      <td>1</td>\n",
       "      <td>0</td>\n",
       "      <td>1</td>\n",
       "      <td>1</td>\n",
       "      <td>1</td>\n",
       "      <td>1</td>\n",
       "      <td>...</td>\n",
       "      <td>1</td>\n",
       "      <td>0</td>\n",
       "      <td>1</td>\n",
       "      <td>1</td>\n",
       "      <td>1</td>\n",
       "      <td>0</td>\n",
       "      <td>0</td>\n",
       "      <td>0</td>\n",
       "      <td>0</td>\n",
       "      <td>1</td>\n",
       "    </tr>\n",
       "    <tr>\n",
       "      <th>1</th>\n",
       "      <td>1</td>\n",
       "      <td>1</td>\n",
       "      <td>1</td>\n",
       "      <td>1</td>\n",
       "      <td>1</td>\n",
       "      <td>0</td>\n",
       "      <td>1</td>\n",
       "      <td>1</td>\n",
       "      <td>0</td>\n",
       "      <td>1</td>\n",
       "      <td>...</td>\n",
       "      <td>1</td>\n",
       "      <td>1</td>\n",
       "      <td>0</td>\n",
       "      <td>0</td>\n",
       "      <td>0</td>\n",
       "      <td>0</td>\n",
       "      <td>1</td>\n",
       "      <td>1</td>\n",
       "      <td>1</td>\n",
       "      <td>1</td>\n",
       "    </tr>\n",
       "    <tr>\n",
       "      <th>2</th>\n",
       "      <td>1</td>\n",
       "      <td>1</td>\n",
       "      <td>1</td>\n",
       "      <td>1</td>\n",
       "      <td>1</td>\n",
       "      <td>0</td>\n",
       "      <td>1</td>\n",
       "      <td>1</td>\n",
       "      <td>0</td>\n",
       "      <td>1</td>\n",
       "      <td>...</td>\n",
       "      <td>1</td>\n",
       "      <td>1</td>\n",
       "      <td>0</td>\n",
       "      <td>0</td>\n",
       "      <td>0</td>\n",
       "      <td>0</td>\n",
       "      <td>1</td>\n",
       "      <td>1</td>\n",
       "      <td>1</td>\n",
       "      <td>1</td>\n",
       "    </tr>\n",
       "    <tr>\n",
       "      <th>3</th>\n",
       "      <td>0</td>\n",
       "      <td>1</td>\n",
       "      <td>1</td>\n",
       "      <td>1</td>\n",
       "      <td>1</td>\n",
       "      <td>0</td>\n",
       "      <td>1</td>\n",
       "      <td>1</td>\n",
       "      <td>1</td>\n",
       "      <td>1</td>\n",
       "      <td>...</td>\n",
       "      <td>1</td>\n",
       "      <td>1</td>\n",
       "      <td>1</td>\n",
       "      <td>1</td>\n",
       "      <td>0</td>\n",
       "      <td>0</td>\n",
       "      <td>1</td>\n",
       "      <td>0</td>\n",
       "      <td>1</td>\n",
       "      <td>0</td>\n",
       "    </tr>\n",
       "    <tr>\n",
       "      <th>4</th>\n",
       "      <td>0</td>\n",
       "      <td>1</td>\n",
       "      <td>1</td>\n",
       "      <td>1</td>\n",
       "      <td>1</td>\n",
       "      <td>0</td>\n",
       "      <td>1</td>\n",
       "      <td>1</td>\n",
       "      <td>1</td>\n",
       "      <td>1</td>\n",
       "      <td>...</td>\n",
       "      <td>1</td>\n",
       "      <td>1</td>\n",
       "      <td>1</td>\n",
       "      <td>1</td>\n",
       "      <td>1</td>\n",
       "      <td>0</td>\n",
       "      <td>0</td>\n",
       "      <td>0</td>\n",
       "      <td>1</td>\n",
       "      <td>1</td>\n",
       "    </tr>\n",
       "    <tr>\n",
       "      <th>...</th>\n",
       "      <td>...</td>\n",
       "      <td>...</td>\n",
       "      <td>...</td>\n",
       "      <td>...</td>\n",
       "      <td>...</td>\n",
       "      <td>...</td>\n",
       "      <td>...</td>\n",
       "      <td>...</td>\n",
       "      <td>...</td>\n",
       "      <td>...</td>\n",
       "      <td>...</td>\n",
       "      <td>...</td>\n",
       "      <td>...</td>\n",
       "      <td>...</td>\n",
       "      <td>...</td>\n",
       "      <td>...</td>\n",
       "      <td>...</td>\n",
       "      <td>...</td>\n",
       "      <td>...</td>\n",
       "      <td>...</td>\n",
       "      <td>...</td>\n",
       "    </tr>\n",
       "    <tr>\n",
       "      <th>594</th>\n",
       "      <td>1</td>\n",
       "      <td>1</td>\n",
       "      <td>1</td>\n",
       "      <td>1</td>\n",
       "      <td>1</td>\n",
       "      <td>0</td>\n",
       "      <td>1</td>\n",
       "      <td>1</td>\n",
       "      <td>0</td>\n",
       "      <td>1</td>\n",
       "      <td>...</td>\n",
       "      <td>1</td>\n",
       "      <td>0</td>\n",
       "      <td>0</td>\n",
       "      <td>1</td>\n",
       "      <td>0</td>\n",
       "      <td>0</td>\n",
       "      <td>1</td>\n",
       "      <td>0</td>\n",
       "      <td>1</td>\n",
       "      <td>1</td>\n",
       "    </tr>\n",
       "    <tr>\n",
       "      <th>595</th>\n",
       "      <td>0</td>\n",
       "      <td>1</td>\n",
       "      <td>1</td>\n",
       "      <td>1</td>\n",
       "      <td>1</td>\n",
       "      <td>0</td>\n",
       "      <td>1</td>\n",
       "      <td>1</td>\n",
       "      <td>1</td>\n",
       "      <td>1</td>\n",
       "      <td>...</td>\n",
       "      <td>1</td>\n",
       "      <td>0</td>\n",
       "      <td>1</td>\n",
       "      <td>1</td>\n",
       "      <td>0</td>\n",
       "      <td>0</td>\n",
       "      <td>0</td>\n",
       "      <td>1</td>\n",
       "      <td>0</td>\n",
       "      <td>1</td>\n",
       "    </tr>\n",
       "    <tr>\n",
       "      <th>596</th>\n",
       "      <td>0</td>\n",
       "      <td>1</td>\n",
       "      <td>1</td>\n",
       "      <td>1</td>\n",
       "      <td>1</td>\n",
       "      <td>1</td>\n",
       "      <td>1</td>\n",
       "      <td>1</td>\n",
       "      <td>1</td>\n",
       "      <td>1</td>\n",
       "      <td>...</td>\n",
       "      <td>1</td>\n",
       "      <td>0</td>\n",
       "      <td>1</td>\n",
       "      <td>1</td>\n",
       "      <td>0</td>\n",
       "      <td>0</td>\n",
       "      <td>1</td>\n",
       "      <td>1</td>\n",
       "      <td>1</td>\n",
       "      <td>1</td>\n",
       "    </tr>\n",
       "    <tr>\n",
       "      <th>597</th>\n",
       "      <td>1</td>\n",
       "      <td>0</td>\n",
       "      <td>1</td>\n",
       "      <td>1</td>\n",
       "      <td>1</td>\n",
       "      <td>0</td>\n",
       "      <td>1</td>\n",
       "      <td>1</td>\n",
       "      <td>1</td>\n",
       "      <td>1</td>\n",
       "      <td>...</td>\n",
       "      <td>1</td>\n",
       "      <td>0</td>\n",
       "      <td>1</td>\n",
       "      <td>0</td>\n",
       "      <td>0</td>\n",
       "      <td>0</td>\n",
       "      <td>0</td>\n",
       "      <td>1</td>\n",
       "      <td>1</td>\n",
       "      <td>0</td>\n",
       "    </tr>\n",
       "    <tr>\n",
       "      <th>598</th>\n",
       "      <td>1</td>\n",
       "      <td>1</td>\n",
       "      <td>1</td>\n",
       "      <td>1</td>\n",
       "      <td>1</td>\n",
       "      <td>1</td>\n",
       "      <td>1</td>\n",
       "      <td>1</td>\n",
       "      <td>1</td>\n",
       "      <td>1</td>\n",
       "      <td>...</td>\n",
       "      <td>1</td>\n",
       "      <td>0</td>\n",
       "      <td>1</td>\n",
       "      <td>0</td>\n",
       "      <td>1</td>\n",
       "      <td>0</td>\n",
       "      <td>0</td>\n",
       "      <td>1</td>\n",
       "      <td>1</td>\n",
       "      <td>1</td>\n",
       "    </tr>\n",
       "  </tbody>\n",
       "</table>\n",
       "<p>599 rows × 1279 columns</p>\n",
       "</div>"
      ],
      "text/plain": [
       "       wPt.0538  wPt.8463  wPt.6348  wPt.9992  wPt.2838  wPt.8266  wPt.1100  \\\n",
       "index                                                                         \n",
       "0             0         1         1         1         1         0         1   \n",
       "1             1         1         1         1         1         0         1   \n",
       "2             1         1         1         1         1         0         1   \n",
       "3             0         1         1         1         1         0         1   \n",
       "4             0         1         1         1         1         0         1   \n",
       "...         ...       ...       ...       ...       ...       ...       ...   \n",
       "594           1         1         1         1         1         0         1   \n",
       "595           0         1         1         1         1         0         1   \n",
       "596           0         1         1         1         1         1         1   \n",
       "597           1         0         1         1         1         0         1   \n",
       "598           1         1         1         1         1         1         1   \n",
       "\n",
       "       wPt.0653  wPt.4418  wPt.2152  ...  c.408290  c.408294  c.408330  \\\n",
       "index                                ...                                 \n",
       "0             1         1         1  ...         1         0         1   \n",
       "1             1         0         1  ...         1         1         0   \n",
       "2             1         0         1  ...         1         1         0   \n",
       "3             1         1         1  ...         1         1         1   \n",
       "4             1         1         1  ...         1         1         1   \n",
       "...         ...       ...       ...  ...       ...       ...       ...   \n",
       "594           1         0         1  ...         1         0         0   \n",
       "595           1         1         1  ...         1         0         1   \n",
       "596           1         1         1  ...         1         0         1   \n",
       "597           1         1         1  ...         1         0         1   \n",
       "598           1         1         1  ...         1         0         1   \n",
       "\n",
       "       c.408336  c.408375  c.408393  c.408422  c.408424  c.408426  c.408443  \n",
       "index                                                                        \n",
       "0             1         1         0         0         0         0         1  \n",
       "1             0         0         0         1         1         1         1  \n",
       "2             0         0         0         1         1         1         1  \n",
       "3             1         0         0         1         0         1         0  \n",
       "4             1         1         0         0         0         1         1  \n",
       "...         ...       ...       ...       ...       ...       ...       ...  \n",
       "594           1         0         0         1         0         1         1  \n",
       "595           1         0         0         0         1         0         1  \n",
       "596           1         0         0         1         1         1         1  \n",
       "597           0         0         0         0         1         1         0  \n",
       "598           0         1         0         0         1         1         1  \n",
       "\n",
       "[599 rows x 1279 columns]"
      ]
     },
     "execution_count": 3,
     "metadata": {},
     "output_type": "execute_result"
    }
   ],
   "source": [
    "data = pd.read_csv(\"Genotyped.csv\", index_col='index')\n",
    "data"
   ]
  },
  {
   "cell_type": "code",
   "execution_count": 4,
   "metadata": {},
   "outputs": [
    {
     "data": {
      "text/html": [
       "<div>\n",
       "<style scoped>\n",
       "    .dataframe tbody tr th:only-of-type {\n",
       "        vertical-align: middle;\n",
       "    }\n",
       "\n",
       "    .dataframe tbody tr th {\n",
       "        vertical-align: top;\n",
       "    }\n",
       "\n",
       "    .dataframe thead th {\n",
       "        text-align: right;\n",
       "    }\n",
       "</style>\n",
       "<table border=\"1\" class=\"dataframe\">\n",
       "  <thead>\n",
       "    <tr style=\"text-align: right;\">\n",
       "      <th></th>\n",
       "      <th>V1</th>\n",
       "      <th>V2</th>\n",
       "      <th>V3</th>\n",
       "      <th>V4</th>\n",
       "      <th>average phenotypes</th>\n",
       "    </tr>\n",
       "    <tr>\n",
       "      <th>index</th>\n",
       "      <th></th>\n",
       "      <th></th>\n",
       "      <th></th>\n",
       "      <th></th>\n",
       "      <th></th>\n",
       "    </tr>\n",
       "  </thead>\n",
       "  <tbody>\n",
       "    <tr>\n",
       "      <th>0</th>\n",
       "      <td>1.671629</td>\n",
       "      <td>-1.727470</td>\n",
       "      <td>-1.890285</td>\n",
       "      <td>0.050916</td>\n",
       "      <td>-0.648708</td>\n",
       "    </tr>\n",
       "    <tr>\n",
       "      <th>1</th>\n",
       "      <td>-0.252703</td>\n",
       "      <td>0.409522</td>\n",
       "      <td>0.309386</td>\n",
       "      <td>-1.738759</td>\n",
       "      <td>0.155402</td>\n",
       "    </tr>\n",
       "    <tr>\n",
       "      <th>2</th>\n",
       "      <td>0.341815</td>\n",
       "      <td>-0.648626</td>\n",
       "      <td>-0.799559</td>\n",
       "      <td>-1.053569</td>\n",
       "      <td>-0.368790</td>\n",
       "    </tr>\n",
       "    <tr>\n",
       "      <th>3</th>\n",
       "      <td>0.785439</td>\n",
       "      <td>0.093949</td>\n",
       "      <td>0.570468</td>\n",
       "      <td>0.551757</td>\n",
       "      <td>0.483285</td>\n",
       "    </tr>\n",
       "    <tr>\n",
       "      <th>4</th>\n",
       "      <td>0.998318</td>\n",
       "      <td>-0.282481</td>\n",
       "      <td>1.618682</td>\n",
       "      <td>-0.114285</td>\n",
       "      <td>0.778173</td>\n",
       "    </tr>\n",
       "    <tr>\n",
       "      <th>...</th>\n",
       "      <td>...</td>\n",
       "      <td>...</td>\n",
       "      <td>...</td>\n",
       "      <td>...</td>\n",
       "      <td>...</td>\n",
       "    </tr>\n",
       "    <tr>\n",
       "      <th>594</th>\n",
       "      <td>-1.248504</td>\n",
       "      <td>1.419042</td>\n",
       "      <td>1.574549</td>\n",
       "      <td>1.659656</td>\n",
       "      <td>0.581695</td>\n",
       "    </tr>\n",
       "    <tr>\n",
       "      <th>595</th>\n",
       "      <td>-1.052126</td>\n",
       "      <td>0.082785</td>\n",
       "      <td>2.138355</td>\n",
       "      <td>0.554385</td>\n",
       "      <td>0.389671</td>\n",
       "    </tr>\n",
       "    <tr>\n",
       "      <th>596</th>\n",
       "      <td>-1.209974</td>\n",
       "      <td>0.451963</td>\n",
       "      <td>2.022570</td>\n",
       "      <td>1.848717</td>\n",
       "      <td>0.421519</td>\n",
       "    </tr>\n",
       "    <tr>\n",
       "      <th>597</th>\n",
       "      <td>-0.902397</td>\n",
       "      <td>0.527907</td>\n",
       "      <td>1.719077</td>\n",
       "      <td>2.692814</td>\n",
       "      <td>0.448196</td>\n",
       "    </tr>\n",
       "    <tr>\n",
       "      <th>598</th>\n",
       "      <td>0.222276</td>\n",
       "      <td>-0.542811</td>\n",
       "      <td>-0.304348</td>\n",
       "      <td>0.381317</td>\n",
       "      <td>-0.208294</td>\n",
       "    </tr>\n",
       "  </tbody>\n",
       "</table>\n",
       "<p>599 rows × 5 columns</p>\n",
       "</div>"
      ],
      "text/plain": [
       "             V1        V2        V3        V4  average phenotypes\n",
       "index                                                            \n",
       "0      1.671629 -1.727470 -1.890285  0.050916           -0.648708\n",
       "1     -0.252703  0.409522  0.309386 -1.738759            0.155402\n",
       "2      0.341815 -0.648626 -0.799559 -1.053569           -0.368790\n",
       "3      0.785439  0.093949  0.570468  0.551757            0.483285\n",
       "4      0.998318 -0.282481  1.618682 -0.114285            0.778173\n",
       "...         ...       ...       ...       ...                 ...\n",
       "594   -1.248504  1.419042  1.574549  1.659656            0.581695\n",
       "595   -1.052126  0.082785  2.138355  0.554385            0.389671\n",
       "596   -1.209974  0.451963  2.022570  1.848717            0.421519\n",
       "597   -0.902397  0.527907  1.719077  2.692814            0.448196\n",
       "598    0.222276 -0.542811 -0.304348  0.381317           -0.208294\n",
       "\n",
       "[599 rows x 5 columns]"
      ]
     },
     "execution_count": 4,
     "metadata": {},
     "output_type": "execute_result"
    }
   ],
   "source": [
    "output = pd.read_csv(\"Phenotypes.csv\", index_col=\"index\")\n",
    "output"
   ]
  },
  {
   "cell_type": "code",
   "execution_count": 5,
   "metadata": {},
   "outputs": [],
   "source": [
    "X = data\n",
    "y = output.iloc[:,-1]"
   ]
  },
  {
   "cell_type": "code",
   "execution_count": 6,
   "metadata": {},
   "outputs": [],
   "source": [
    "from sklearn.model_selection import train_test_split\n",
    "\n",
    "split = 0.2\n",
    "X_train, X_test, y_train, y_test = train_test_split(X, y, test_size=split, random_state=42)"
   ]
  },
  {
   "cell_type": "code",
   "execution_count": 7,
   "metadata": {},
   "outputs": [],
   "source": [
    "from sklearn.cluster import KMeans\n",
    "clustering = KMeans(n_clusters=2, random_state=0).fit(X)"
   ]
  },
  {
   "cell_type": "code",
   "execution_count": 8,
   "metadata": {},
   "outputs": [],
   "source": [
    "X_one = X[clustering.labels_ == 0]\n",
    "y_one = y[clustering.labels_ == 0]\n",
    "\n",
    "X_two = X[clustering.labels_ == 1]\n",
    "y_two = y[clustering.labels_ == 1]"
   ]
  },
  {
   "cell_type": "code",
   "execution_count": 9,
   "metadata": {},
   "outputs": [],
   "source": [
    "clustering_one = KMeans(n_clusters=2, random_state=0).fit(X_one)\n",
    "clustering_two = KMeans(n_clusters=2, random_state=0).fit(X_two)"
   ]
  },
  {
   "cell_type": "code",
   "execution_count": 10,
   "metadata": {},
   "outputs": [],
   "source": [
    "X_one_one = X_one[clustering_one.labels_ == 0]\n",
    "y_one_one = y_one[clustering_one.labels_ == 0]\n",
    "\n",
    "X_two_one = X_one[clustering_one.labels_ == 0]\n",
    "y_two_one = y_one[clustering_one.labels_ == 0]\n",
    "\n",
    "X_one_two = X_two[clustering_two.labels_ == 1]\n",
    "y_one_two = y_two[clustering_two.labels_ == 1]\n",
    "\n",
    "X_two_two = X_two[clustering_two.labels_ == 1]\n",
    "y_two_two = y_two[clustering_two.labels_ == 1]"
   ]
  },
  {
   "cell_type": "markdown",
   "metadata": {},
   "source": [
    "### Splitting the data"
   ]
  },
  {
   "cell_type": "code",
   "execution_count": 11,
   "metadata": {},
   "outputs": [],
   "source": [
    "X_one_one_train, X_one_one_test, y_one_one_train, y_one_one_test = train_test_split(X_one_one, y_one_one, test_size=split, random_state=42)\n",
    "X_one_two_train, X_one_two_test, y_one_two_train, y_one_two_test = train_test_split(X_one_two, y_one_two, test_size=split, random_state=42)\n",
    "\n",
    "X_two_one_train, X_two_one_test, y_two_one_train, y_two_one_test = train_test_split(X_two_one, y_two_one, test_size=split, random_state=42)\n",
    "X_two_two_train, X_two_two_test, y_two_two_train, y_two_two_test = train_test_split(X_two_two, y_two_two, test_size=split, random_state=42)"
   ]
  },
  {
   "cell_type": "markdown",
   "metadata": {},
   "source": [
    "## Training the model"
   ]
  },
  {
   "cell_type": "code",
   "execution_count": 12,
   "metadata": {},
   "outputs": [],
   "source": [
    "from xgboost import XGBRegressor\n",
    "from sklearn.model_selection import GridSearchCV"
   ]
  },
  {
   "cell_type": "code",
   "execution_count": 13,
   "metadata": {},
   "outputs": [],
   "source": [
    "classifier = XGBRegressor(objective ='reg:squarederror')"
   ]
  },
  {
   "cell_type": "code",
   "execution_count": 14,
   "metadata": {},
   "outputs": [],
   "source": [
    "grid = {\n",
    "    \"learning_rate\": [0.05, 0.10, 0.15, 0.20, 0.25, 0.30],\n",
    "    \"max_depth\": [3, 4, 5, 6, 8, 10, 12, 15],\n",
    "    \"gamma\": [0.0, 0.1, 0.3, 0.4],\n",
    "    \"colsample_bytree\": [0.3, 0.4, 0.5, 0.7],\n",
    "    'n_estimators': [200, 300, 400, 500]\n",
    "}"
   ]
  },
  {
   "cell_type": "code",
   "execution_count": 15,
   "metadata": {},
   "outputs": [],
   "source": [
    "gd_sr = GridSearchCV(estimator=classifier,\n",
    "                       n_jobs=-1,\n",
    "                       param_grid=grid,\n",
    "                       scoring='r2',\n",
    "                       cv=5, iid=False)"
   ]
  },
  {
   "cell_type": "markdown",
   "metadata": {},
   "source": [
    "### Cloud 1"
   ]
  },
  {
   "cell_type": "markdown",
   "metadata": {},
   "source": [
    "#### Group 1"
   ]
  },
  {
   "cell_type": "code",
   "execution_count": 16,
   "metadata": {},
   "outputs": [
    {
     "data": {
      "text/plain": [
       "GridSearchCV(cv=5, estimator=XGBRegressor(objective='reg:squarederror'),\n",
       "             iid=False, n_jobs=-1,\n",
       "             param_grid={'colsample_bytree': [0.3, 0.4, 0.5, 0.7],\n",
       "                         'gamma': [0.0, 0.1, 0.3, 0.4],\n",
       "                         'learning_rate': [0.05, 0.1, 0.15, 0.2, 0.25, 0.3],\n",
       "                         'max_depth': [3, 4, 5, 6, 8, 10, 12, 15],\n",
       "                         'n_estimators': [200, 300, 400, 500]},\n",
       "             scoring='r2')"
      ]
     },
     "execution_count": 16,
     "metadata": {},
     "output_type": "execute_result"
    }
   ],
   "source": [
    "gd_sr.fit(X_one_one_train, y_one_one_train)"
   ]
  },
  {
   "cell_type": "code",
   "execution_count": 17,
   "metadata": {},
   "outputs": [
    {
     "data": {
      "text/plain": [
       "{'colsample_bytree': 0.3,\n",
       " 'gamma': 0.4,\n",
       " 'learning_rate': 0.25,\n",
       " 'max_depth': 4,\n",
       " 'n_estimators': 200}"
      ]
     },
     "execution_count": 17,
     "metadata": {},
     "output_type": "execute_result"
    }
   ],
   "source": [
    "best_parameters_one_one = gd_sr.best_params_\n",
    "best_parameters_one_one"
   ]
  },
  {
   "cell_type": "code",
   "execution_count": 21,
   "metadata": {},
   "outputs": [
    {
     "data": {
      "text/plain": [
       "XGBRegressor(colsample_bytree=0.3, gamma=0.4, learning_rate=0.25, max_depth=4,\n",
       "             n_estimators=200, objective='reg:squarederror')"
      ]
     },
     "execution_count": 21,
     "metadata": {},
     "output_type": "execute_result"
    }
   ],
   "source": [
    "best_clf_one_one = XGBRegressor(objective='reg:squarederror',\n",
    "                        n_estimators=best_parameters_one_one['n_estimators'], \n",
    "                        max_depth=best_parameters_one_one['max_depth'], \n",
    "                        learning_rate=best_parameters_one_one['learning_rate'],\n",
    "                        gamma=best_parameters_one_one['gamma'],\n",
    "                        colsample_bytree=best_parameters_one_one['colsample_bytree'])\n",
    "\n",
    "best_clf_one_one.fit(X_one_one_train,y_one_one_train)"
   ]
  },
  {
   "cell_type": "code",
   "execution_count": 22,
   "metadata": {},
   "outputs": [],
   "source": [
    "y_one_one_pred = best_clf_one_one.predict(X_one_one_test)\n",
    "y_one_one_pred_tr = best_clf_one_one.predict(X_one_one_train)"
   ]
  },
  {
   "cell_type": "markdown",
   "metadata": {},
   "source": [
    "#### Group 2"
   ]
  },
  {
   "cell_type": "code",
   "execution_count": null,
   "metadata": {},
   "outputs": [],
   "source": [
    "gd_sr.fit(X_one_two_train, y_one_two_train)"
   ]
  },
  {
   "cell_type": "code",
   "execution_count": null,
   "metadata": {},
   "outputs": [],
   "source": [
    "best_parameters_one_two = gd_sr.best_params_\n",
    "best_parameters_one_two"
   ]
  },
  {
   "cell_type": "code",
   "execution_count": null,
   "metadata": {},
   "outputs": [],
   "source": [
    "best_clf_one_two = XGBRegressor(objective='reg:squarederror',\n",
    "                        n_estimators=best_parameters_one_two['n_estimators'], \n",
    "                        max_depth=best_parameters_one_two['max_depth'], \n",
    "                        learning_rate=best_parameters_one_one['learning_rate'],\n",
    "                        gamma=best_oarameters_one_two['gamma'],\n",
    "                        colsample_bytree=best_parameters_one_two['colsample_bytree'])\n",
    "\n",
    "best_clf_one_two.fit(X_one_two_train,y_one_two_train)"
   ]
  },
  {
   "cell_type": "code",
   "execution_count": null,
   "metadata": {},
   "outputs": [],
   "source": [
    "y_one_two_pred = best_clf_one_two.predict(X_one_two_test)\n",
    "y_one_two_pred_tr = best_clf_one_two.predict(X_one_two_train)"
   ]
  },
  {
   "cell_type": "markdown",
   "metadata": {},
   "source": [
    "### Cloud 2"
   ]
  },
  {
   "cell_type": "markdown",
   "metadata": {},
   "source": [
    "#### Group 1"
   ]
  },
  {
   "cell_type": "code",
   "execution_count": null,
   "metadata": {},
   "outputs": [],
   "source": [
    "gd_sr.fit(X_two_one_train, y_two_one_train)"
   ]
  },
  {
   "cell_type": "code",
   "execution_count": null,
   "metadata": {},
   "outputs": [],
   "source": [
    "best_parameters_two_one = gd_sr.best_params_\n",
    "best_parameters_two_one"
   ]
  },
  {
   "cell_type": "code",
   "execution_count": null,
   "metadata": {},
   "outputs": [],
   "source": [
    "best_clf_two_one = XGBRegressor(objective='reg:squarederror',\n",
    "                        n_estimators=best_parameterstwoe_one['n_estimators'], \n",
    "                        max_depth=best_parameters_two_one['max_depth'], \n",
    "                        learning_rate=best_parameters_two_one['learning_rate'],\n",
    "                        gamma=best_oarameters_two_one['gamma'],\n",
    "                        colsample_bytree=best_parameters_two_one['colsample_bytree'])\n",
    "\n",
    "best_clf_two_one.fit(X_two_one_train,y_two_one_train)"
   ]
  },
  {
   "cell_type": "code",
   "execution_count": null,
   "metadata": {},
   "outputs": [],
   "source": [
    "y_two_one_pred = best_clf_two_one.predict(X_two_one_test)\n",
    "y_two_one_pred_tr = best_clf_two_one.predict(X_two_one_train)"
   ]
  },
  {
   "cell_type": "markdown",
   "metadata": {},
   "source": [
    "#### Group 2"
   ]
  },
  {
   "cell_type": "code",
   "execution_count": null,
   "metadata": {},
   "outputs": [],
   "source": [
    "gd_sr.fit(X_two_two_train, y_two_two_train)"
   ]
  },
  {
   "cell_type": "code",
   "execution_count": null,
   "metadata": {},
   "outputs": [],
   "source": [
    "best_parameters_two_two = gd_sr.best_params_\n",
    "best_parameters_two_two"
   ]
  },
  {
   "cell_type": "code",
   "execution_count": null,
   "metadata": {},
   "outputs": [],
   "source": [
    "best_clf_two_two = XGBRegressor(objective='reg:squarederror',\n",
    "                        n_estimators=best_parameters_two_two['n_estimators'], \n",
    "                        max_depth=best_parameters_two_two['max_depth'], \n",
    "                        learning_rate=best_parameters_two_two['learning_rate'],\n",
    "                        gamma=best_oarameters_two_two['gamma'],\n",
    "                        colsample_bytree=best_parameters_two_two['colsample_bytree'])\n",
    "\n",
    "best_clf_two_two.fit(X_two_two_train,y_two_two_train)"
   ]
  },
  {
   "cell_type": "code",
   "execution_count": null,
   "metadata": {},
   "outputs": [],
   "source": [
    "y_two_two_pred = best_clf_two_two.predict(X_two_two_test)\n",
    "y_two_two_pred_tr = best_clf_two_two.predict(X_two_two_train)"
   ]
  },
  {
   "cell_type": "markdown",
   "metadata": {},
   "source": [
    "## Model Evaluation"
   ]
  },
  {
   "cell_type": "markdown",
   "metadata": {},
   "source": [
    "### Cloud 1\n",
    "#### Group 1"
   ]
  },
  {
   "cell_type": "code",
   "execution_count": 23,
   "metadata": {},
   "outputs": [
    {
     "data": {
      "image/png": "[encoded data removed]",
      "text/plain": [
       "<Figure size 432x288 with 1 Axes>"
      ]
     },
     "metadata": {
      "needs_background": "light"
     },
     "output_type": "display_data"
    }
   ],
   "source": [
    "%matplotlib inline\n",
    "import matplotlib.pyplot as plt\n",
    "plt.xlabel(\"Actual values\")\n",
    "plt.ylabel(\"Predicted values\")\n",
    "plt.plot(y_one_one_test, y_one_one_pred, 'o', color='black')\n",
    "plt.plot(y_one_one_train,y_one_one_pred_tr, 'x', color='red')\n",
    "plt.show()"
   ]
  },
  {
   "cell_type": "code",
   "execution_count": 24,
   "metadata": {},
   "outputs": [
    {
     "name": "stdout",
     "output_type": "stream",
     "text": [
      "Training set: 0.8399366736431256\n",
      "Test set: -0.0030798987349287543\n"
     ]
    }
   ],
   "source": [
    "from sklearn.metrics import r2_score\n",
    "print('Training set:',r2_score(y_one_one_train,y_one_one_pred_tr))\n",
    "print('Test set:',r2_score(y_one_one_test,y_one_one_pred))"
   ]
  },
  {
   "cell_type": "markdown",
   "metadata": {},
   "source": [
    "#### Group 2"
   ]
  },
  {
   "cell_type": "code",
   "execution_count": null,
   "metadata": {},
   "outputs": [],
   "source": [
    "%matplotlib inline\n",
    "import matplotlib.pyplot as plt\n",
    "plt.xlabel(\"Actual values\")\n",
    "plt.ylabel(\"Predicted values\")\n",
    "plt.plot(y_one_two_test, y_one_two_pred, 'o', color='black')\n",
    "plt.plot(y_one_two_train,y_one_two_pred_tr, 'x', color='red')\n",
    "plt.show()"
   ]
  },
  {
   "cell_type": "code",
   "execution_count": null,
   "metadata": {},
   "outputs": [],
   "source": [
    "from sklearn.metrics import r2_score\n",
    "print('Training set:',r2_score(y_one_two_train,y_one_two_pred_tr))\n",
    "print('Test set:',r2_score(y_one_two_test,y_one_two_pred))"
   ]
  },
  {
   "cell_type": "markdown",
   "metadata": {},
   "source": [
    "### Cloud 2\n",
    "#### Group 1"
   ]
  },
  {
   "cell_type": "code",
   "execution_count": null,
   "metadata": {},
   "outputs": [],
   "source": [
    "%matplotlib inline\n",
    "import matplotlib.pyplot as plt\n",
    "plt.xlabel(\"Actual values\")\n",
    "plt.ylabel(\"Predicted values\")\n",
    "plt.plot(y_two_one_test, y_two_one_pred, 'o', color='black')\n",
    "plt.plot(y_two_one_train,y_two_one_pred_tr, 'x', color='red')\n",
    "plt.show()"
   ]
  },
  {
   "cell_type": "code",
   "execution_count": null,
   "metadata": {},
   "outputs": [],
   "source": [
    "from sklearn.metrics import r2_score\n",
    "print('Training set:',r2_score(y_two_one_train,y_two_one_pred_tr))\n",
    "print('Test set:',r2_score(y_two_one_test,y_two_one_pred))"
   ]
  },
  {
   "cell_type": "markdown",
   "metadata": {},
   "source": [
    "#### Group 2"
   ]
  },
  {
   "cell_type": "code",
   "execution_count": null,
   "metadata": {},
   "outputs": [],
   "source": [
    "%matplotlib inline\n",
    "import matplotlib.pyplot as plt\n",
    "plt.xlabel(\"Actual values\")\n",
    "plt.ylabel(\"Predicted values\")\n",
    "plt.plot(y_two_two_test, y_two_two_pred, 'o', color='black')\n",
    "plt.plot(y_two_two_train,y_two_two_pred_tr, 'x', color='red')\n",
    "plt.show()"
   ]
  },
  {
   "cell_type": "code",
   "execution_count": null,
   "metadata": {},
   "outputs": [],
   "source": [
    "from sklearn.metrics import r2_score\n",
    "print('Training set:',r2_score(y_two_two_train,y_two_two_pred_tr))\n",
    "print('Test set:',r2_score(y_two_two_test,y_two_two_pred))"
   ]
  },
  {
   "cell_type": "code",
   "execution_count": null,
   "metadata": {},
   "outputs": [],
   "source": []
  }
 ],
 "metadata": {
  "kernelspec": {
   "display_name": "Python 3",
   "language": "python",
   "name": "python3"
  },
  "language_info": {
   "codemirror_mode": {
    "name": "ipython",
    "version": 3
   },
   "file_extension": ".py",
   "mimetype": "text/x-python",
   "name": "python",
   "nbconvert_exporter": "python",
   "pygments_lexer": "ipython3",
   "version": "3.7.6"
  }
 },
 "nbformat": 4,
 "nbformat_minor": 4
}
