{
 "cells": [
  {
   "cell_type": "markdown",
   "metadata": {},
   "source": [
    "# Corn data example\n",
    "Data is from https://www.genetics.org/content/suppl/2010/09/02/genetics.110.118521.DC1\n",
    "\n",
    "Formatted by https://github.com/rileymcdowell/genomic-neuralnet\n",
    "\n",
    "\n",
    "Species: Corn\n",
    "\n",
    "Number of instances (different varieties): 264\n",
    "\n",
    "Number of features (SNPs): 1134\n",
    "\n",
    "Trait of interest: yield (continuous variable: weight/area)\n"
   ]
  },
  {
   "cell_type": "code",
   "execution_count": 1,
   "metadata": {},
   "outputs": [],
   "source": [
    "# import warnings filter\n",
    "from warnings import simplefilter\n",
    "simplefilter(action='ignore', category=FutureWarning)"
   ]
  },
  {
   "cell_type": "code",
   "execution_count": 2,
   "metadata": {},
   "outputs": [
    {
     "data": {
      "text/html": [
       "<div>\n",
       "<style scoped>\n",
       "    .dataframe tbody tr th:only-of-type {\n",
       "        vertical-align: middle;\n",
       "    }\n",
       "\n",
       "    .dataframe tbody tr th {\n",
       "        vertical-align: top;\n",
       "    }\n",
       "\n",
       "    .dataframe thead th {\n",
       "        text-align: right;\n",
       "    }\n",
       "</style>\n",
       "<table border=\"1\" class=\"dataframe\">\n",
       "  <thead>\n",
       "    <tr style=\"text-align: right;\">\n",
       "      <th></th>\n",
       "      <th>wPt.0538</th>\n",
       "      <th>wPt.8463</th>\n",
       "      <th>wPt.6348</th>\n",
       "      <th>wPt.9992</th>\n",
       "      <th>wPt.2838</th>\n",
       "      <th>wPt.8266</th>\n",
       "      <th>wPt.1100</th>\n",
       "      <th>wPt.0653</th>\n",
       "      <th>wPt.4418</th>\n",
       "      <th>wPt.2152</th>\n",
       "      <th>...</th>\n",
       "      <th>c.408290</th>\n",
       "      <th>c.408294</th>\n",
       "      <th>c.408330</th>\n",
       "      <th>c.408336</th>\n",
       "      <th>c.408375</th>\n",
       "      <th>c.408393</th>\n",
       "      <th>c.408422</th>\n",
       "      <th>c.408424</th>\n",
       "      <th>c.408426</th>\n",
       "      <th>c.408443</th>\n",
       "    </tr>\n",
       "    <tr>\n",
       "      <th>index</th>\n",
       "      <th></th>\n",
       "      <th></th>\n",
       "      <th></th>\n",
       "      <th></th>\n",
       "      <th></th>\n",
       "      <th></th>\n",
       "      <th></th>\n",
       "      <th></th>\n",
       "      <th></th>\n",
       "      <th></th>\n",
       "      <th></th>\n",
       "      <th></th>\n",
       "      <th></th>\n",
       "      <th></th>\n",
       "      <th></th>\n",
       "      <th></th>\n",
       "      <th></th>\n",
       "      <th></th>\n",
       "      <th></th>\n",
       "      <th></th>\n",
       "      <th></th>\n",
       "    </tr>\n",
       "  </thead>\n",
       "  <tbody>\n",
       "    <tr>\n",
       "      <th>0</th>\n",
       "      <td>0</td>\n",
       "      <td>1</td>\n",
       "      <td>1</td>\n",
       "      <td>1</td>\n",
       "      <td>1</td>\n",
       "      <td>0</td>\n",
       "      <td>1</td>\n",
       "      <td>1</td>\n",
       "      <td>1</td>\n",
       "      <td>1</td>\n",
       "      <td>...</td>\n",
       "      <td>1</td>\n",
       "      <td>0</td>\n",
       "      <td>1</td>\n",
       "      <td>1</td>\n",
       "      <td>1</td>\n",
       "      <td>0</td>\n",
       "      <td>0</td>\n",
       "      <td>0</td>\n",
       "      <td>0</td>\n",
       "      <td>1</td>\n",
       "    </tr>\n",
       "    <tr>\n",
       "      <th>1</th>\n",
       "      <td>1</td>\n",
       "      <td>1</td>\n",
       "      <td>1</td>\n",
       "      <td>1</td>\n",
       "      <td>1</td>\n",
       "      <td>0</td>\n",
       "      <td>1</td>\n",
       "      <td>1</td>\n",
       "      <td>0</td>\n",
       "      <td>1</td>\n",
       "      <td>...</td>\n",
       "      <td>1</td>\n",
       "      <td>1</td>\n",
       "      <td>0</td>\n",
       "      <td>0</td>\n",
       "      <td>0</td>\n",
       "      <td>0</td>\n",
       "      <td>1</td>\n",
       "      <td>1</td>\n",
       "      <td>1</td>\n",
       "      <td>1</td>\n",
       "    </tr>\n",
       "    <tr>\n",
       "      <th>2</th>\n",
       "      <td>1</td>\n",
       "      <td>1</td>\n",
       "      <td>1</td>\n",
       "      <td>1</td>\n",
       "      <td>1</td>\n",
       "      <td>0</td>\n",
       "      <td>1</td>\n",
       "      <td>1</td>\n",
       "      <td>0</td>\n",
       "      <td>1</td>\n",
       "      <td>...</td>\n",
       "      <td>1</td>\n",
       "      <td>1</td>\n",
       "      <td>0</td>\n",
       "      <td>0</td>\n",
       "      <td>0</td>\n",
       "      <td>0</td>\n",
       "      <td>1</td>\n",
       "      <td>1</td>\n",
       "      <td>1</td>\n",
       "      <td>1</td>\n",
       "    </tr>\n",
       "    <tr>\n",
       "      <th>3</th>\n",
       "      <td>0</td>\n",
       "      <td>1</td>\n",
       "      <td>1</td>\n",
       "      <td>1</td>\n",
       "      <td>1</td>\n",
       "      <td>0</td>\n",
       "      <td>1</td>\n",
       "      <td>1</td>\n",
       "      <td>1</td>\n",
       "      <td>1</td>\n",
       "      <td>...</td>\n",
       "      <td>1</td>\n",
       "      <td>1</td>\n",
       "      <td>1</td>\n",
       "      <td>1</td>\n",
       "      <td>0</td>\n",
       "      <td>0</td>\n",
       "      <td>1</td>\n",
       "      <td>0</td>\n",
       "      <td>1</td>\n",
       "      <td>0</td>\n",
       "    </tr>\n",
       "    <tr>\n",
       "      <th>4</th>\n",
       "      <td>0</td>\n",
       "      <td>1</td>\n",
       "      <td>1</td>\n",
       "      <td>1</td>\n",
       "      <td>1</td>\n",
       "      <td>0</td>\n",
       "      <td>1</td>\n",
       "      <td>1</td>\n",
       "      <td>1</td>\n",
       "      <td>1</td>\n",
       "      <td>...</td>\n",
       "      <td>1</td>\n",
       "      <td>1</td>\n",
       "      <td>1</td>\n",
       "      <td>1</td>\n",
       "      <td>1</td>\n",
       "      <td>0</td>\n",
       "      <td>0</td>\n",
       "      <td>0</td>\n",
       "      <td>1</td>\n",
       "      <td>1</td>\n",
       "    </tr>\n",
       "    <tr>\n",
       "      <th>...</th>\n",
       "      <td>...</td>\n",
       "      <td>...</td>\n",
       "      <td>...</td>\n",
       "      <td>...</td>\n",
       "      <td>...</td>\n",
       "      <td>...</td>\n",
       "      <td>...</td>\n",
       "      <td>...</td>\n",
       "      <td>...</td>\n",
       "      <td>...</td>\n",
       "      <td>...</td>\n",
       "      <td>...</td>\n",
       "      <td>...</td>\n",
       "      <td>...</td>\n",
       "      <td>...</td>\n",
       "      <td>...</td>\n",
       "      <td>...</td>\n",
       "      <td>...</td>\n",
       "      <td>...</td>\n",
       "      <td>...</td>\n",
       "      <td>...</td>\n",
       "    </tr>\n",
       "    <tr>\n",
       "      <th>594</th>\n",
       "      <td>1</td>\n",
       "      <td>1</td>\n",
       "      <td>1</td>\n",
       "      <td>1</td>\n",
       "      <td>1</td>\n",
       "      <td>0</td>\n",
       "      <td>1</td>\n",
       "      <td>1</td>\n",
       "      <td>0</td>\n",
       "      <td>1</td>\n",
       "      <td>...</td>\n",
       "      <td>1</td>\n",
       "      <td>0</td>\n",
       "      <td>0</td>\n",
       "      <td>1</td>\n",
       "      <td>0</td>\n",
       "      <td>0</td>\n",
       "      <td>1</td>\n",
       "      <td>0</td>\n",
       "      <td>1</td>\n",
       "      <td>1</td>\n",
       "    </tr>\n",
       "    <tr>\n",
       "      <th>595</th>\n",
       "      <td>0</td>\n",
       "      <td>1</td>\n",
       "      <td>1</td>\n",
       "      <td>1</td>\n",
       "      <td>1</td>\n",
       "      <td>0</td>\n",
       "      <td>1</td>\n",
       "      <td>1</td>\n",
       "      <td>1</td>\n",
       "      <td>1</td>\n",
       "      <td>...</td>\n",
       "      <td>1</td>\n",
       "      <td>0</td>\n",
       "      <td>1</td>\n",
       "      <td>1</td>\n",
       "      <td>0</td>\n",
       "      <td>0</td>\n",
       "      <td>0</td>\n",
       "      <td>1</td>\n",
       "      <td>0</td>\n",
       "      <td>1</td>\n",
       "    </tr>\n",
       "    <tr>\n",
       "      <th>596</th>\n",
       "      <td>0</td>\n",
       "      <td>1</td>\n",
       "      <td>1</td>\n",
       "      <td>1</td>\n",
       "      <td>1</td>\n",
       "      <td>1</td>\n",
       "      <td>1</td>\n",
       "      <td>1</td>\n",
       "      <td>1</td>\n",
       "      <td>1</td>\n",
       "      <td>...</td>\n",
       "      <td>1</td>\n",
       "      <td>0</td>\n",
       "      <td>1</td>\n",
       "      <td>1</td>\n",
       "      <td>0</td>\n",
       "      <td>0</td>\n",
       "      <td>1</td>\n",
       "      <td>1</td>\n",
       "      <td>1</td>\n",
       "      <td>1</td>\n",
       "    </tr>\n",
       "    <tr>\n",
       "      <th>597</th>\n",
       "      <td>1</td>\n",
       "      <td>0</td>\n",
       "      <td>1</td>\n",
       "      <td>1</td>\n",
       "      <td>1</td>\n",
       "      <td>0</td>\n",
       "      <td>1</td>\n",
       "      <td>1</td>\n",
       "      <td>1</td>\n",
       "      <td>1</td>\n",
       "      <td>...</td>\n",
       "      <td>1</td>\n",
       "      <td>0</td>\n",
       "      <td>1</td>\n",
       "      <td>0</td>\n",
       "      <td>0</td>\n",
       "      <td>0</td>\n",
       "      <td>0</td>\n",
       "      <td>1</td>\n",
       "      <td>1</td>\n",
       "      <td>0</td>\n",
       "    </tr>\n",
       "    <tr>\n",
       "      <th>598</th>\n",
       "      <td>1</td>\n",
       "      <td>1</td>\n",
       "      <td>1</td>\n",
       "      <td>1</td>\n",
       "      <td>1</td>\n",
       "      <td>1</td>\n",
       "      <td>1</td>\n",
       "      <td>1</td>\n",
       "      <td>1</td>\n",
       "      <td>1</td>\n",
       "      <td>...</td>\n",
       "      <td>1</td>\n",
       "      <td>0</td>\n",
       "      <td>1</td>\n",
       "      <td>0</td>\n",
       "      <td>1</td>\n",
       "      <td>0</td>\n",
       "      <td>0</td>\n",
       "      <td>1</td>\n",
       "      <td>1</td>\n",
       "      <td>1</td>\n",
       "    </tr>\n",
       "  </tbody>\n",
       "</table>\n",
       "<p>599 rows × 1279 columns</p>\n",
       "</div>"
      ],
      "text/plain": [
       "       wPt.0538  wPt.8463  wPt.6348  wPt.9992  wPt.2838  wPt.8266  wPt.1100  \\\n",
       "index                                                                         \n",
       "0             0         1         1         1         1         0         1   \n",
       "1             1         1         1         1         1         0         1   \n",
       "2             1         1         1         1         1         0         1   \n",
       "3             0         1         1         1         1         0         1   \n",
       "4             0         1         1         1         1         0         1   \n",
       "...         ...       ...       ...       ...       ...       ...       ...   \n",
       "594           1         1         1         1         1         0         1   \n",
       "595           0         1         1         1         1         0         1   \n",
       "596           0         1         1         1         1         1         1   \n",
       "597           1         0         1         1         1         0         1   \n",
       "598           1         1         1         1         1         1         1   \n",
       "\n",
       "       wPt.0653  wPt.4418  wPt.2152  ...  c.408290  c.408294  c.408330  \\\n",
       "index                                ...                                 \n",
       "0             1         1         1  ...         1         0         1   \n",
       "1             1         0         1  ...         1         1         0   \n",
       "2             1         0         1  ...         1         1         0   \n",
       "3             1         1         1  ...         1         1         1   \n",
       "4             1         1         1  ...         1         1         1   \n",
       "...         ...       ...       ...  ...       ...       ...       ...   \n",
       "594           1         0         1  ...         1         0         0   \n",
       "595           1         1         1  ...         1         0         1   \n",
       "596           1         1         1  ...         1         0         1   \n",
       "597           1         1         1  ...         1         0         1   \n",
       "598           1         1         1  ...         1         0         1   \n",
       "\n",
       "       c.408336  c.408375  c.408393  c.408422  c.408424  c.408426  c.408443  \n",
       "index                                                                        \n",
       "0             1         1         0         0         0         0         1  \n",
       "1             0         0         0         1         1         1         1  \n",
       "2             0         0         0         1         1         1         1  \n",
       "3             1         0         0         1         0         1         0  \n",
       "4             1         1         0         0         0         1         1  \n",
       "...         ...       ...       ...       ...       ...       ...       ...  \n",
       "594           1         0         0         1         0         1         1  \n",
       "595           1         0         0         0         1         0         1  \n",
       "596           1         0         0         1         1         1         1  \n",
       "597           0         0         0         0         1         1         0  \n",
       "598           0         1         0         0         1         1         1  \n",
       "\n",
       "[599 rows x 1279 columns]"
      ]
     },
     "execution_count": 2,
     "metadata": {},
     "output_type": "execute_result"
    }
   ],
   "source": [
    "import pandas as pd\n",
    "import numpy as np\n",
    "data = pd.read_csv(\"Genotyped.csv\", index_col='index')\n",
    "data"
   ]
  },
  {
   "cell_type": "code",
   "execution_count": 3,
   "metadata": {},
   "outputs": [
    {
     "data": {
      "text/html": [
       "<div>\n",
       "<style scoped>\n",
       "    .dataframe tbody tr th:only-of-type {\n",
       "        vertical-align: middle;\n",
       "    }\n",
       "\n",
       "    .dataframe tbody tr th {\n",
       "        vertical-align: top;\n",
       "    }\n",
       "\n",
       "    .dataframe thead th {\n",
       "        text-align: right;\n",
       "    }\n",
       "</style>\n",
       "<table border=\"1\" class=\"dataframe\">\n",
       "  <thead>\n",
       "    <tr style=\"text-align: right;\">\n",
       "      <th></th>\n",
       "      <th>index</th>\n",
       "      <th>V1</th>\n",
       "      <th>V2</th>\n",
       "      <th>V3</th>\n",
       "      <th>V4</th>\n",
       "      <th>average phenotypes</th>\n",
       "    </tr>\n",
       "  </thead>\n",
       "  <tbody>\n",
       "    <tr>\n",
       "      <th>0</th>\n",
       "      <td>0</td>\n",
       "      <td>1.671629</td>\n",
       "      <td>-1.727470</td>\n",
       "      <td>-1.890285</td>\n",
       "      <td>0.050916</td>\n",
       "      <td>-0.648708</td>\n",
       "    </tr>\n",
       "    <tr>\n",
       "      <th>1</th>\n",
       "      <td>1</td>\n",
       "      <td>-0.252703</td>\n",
       "      <td>0.409522</td>\n",
       "      <td>0.309386</td>\n",
       "      <td>-1.738759</td>\n",
       "      <td>0.155402</td>\n",
       "    </tr>\n",
       "    <tr>\n",
       "      <th>2</th>\n",
       "      <td>2</td>\n",
       "      <td>0.341815</td>\n",
       "      <td>-0.648626</td>\n",
       "      <td>-0.799559</td>\n",
       "      <td>-1.053569</td>\n",
       "      <td>-0.368790</td>\n",
       "    </tr>\n",
       "    <tr>\n",
       "      <th>3</th>\n",
       "      <td>3</td>\n",
       "      <td>0.785439</td>\n",
       "      <td>0.093949</td>\n",
       "      <td>0.570468</td>\n",
       "      <td>0.551757</td>\n",
       "      <td>0.483285</td>\n",
       "    </tr>\n",
       "    <tr>\n",
       "      <th>4</th>\n",
       "      <td>4</td>\n",
       "      <td>0.998318</td>\n",
       "      <td>-0.282481</td>\n",
       "      <td>1.618682</td>\n",
       "      <td>-0.114285</td>\n",
       "      <td>0.778173</td>\n",
       "    </tr>\n",
       "    <tr>\n",
       "      <th>...</th>\n",
       "      <td>...</td>\n",
       "      <td>...</td>\n",
       "      <td>...</td>\n",
       "      <td>...</td>\n",
       "      <td>...</td>\n",
       "      <td>...</td>\n",
       "    </tr>\n",
       "    <tr>\n",
       "      <th>594</th>\n",
       "      <td>594</td>\n",
       "      <td>-1.248504</td>\n",
       "      <td>1.419042</td>\n",
       "      <td>1.574549</td>\n",
       "      <td>1.659656</td>\n",
       "      <td>0.581695</td>\n",
       "    </tr>\n",
       "    <tr>\n",
       "      <th>595</th>\n",
       "      <td>595</td>\n",
       "      <td>-1.052126</td>\n",
       "      <td>0.082785</td>\n",
       "      <td>2.138355</td>\n",
       "      <td>0.554385</td>\n",
       "      <td>0.389671</td>\n",
       "    </tr>\n",
       "    <tr>\n",
       "      <th>596</th>\n",
       "      <td>596</td>\n",
       "      <td>-1.209974</td>\n",
       "      <td>0.451963</td>\n",
       "      <td>2.022570</td>\n",
       "      <td>1.848717</td>\n",
       "      <td>0.421519</td>\n",
       "    </tr>\n",
       "    <tr>\n",
       "      <th>597</th>\n",
       "      <td>597</td>\n",
       "      <td>-0.902397</td>\n",
       "      <td>0.527907</td>\n",
       "      <td>1.719077</td>\n",
       "      <td>2.692814</td>\n",
       "      <td>0.448196</td>\n",
       "    </tr>\n",
       "    <tr>\n",
       "      <th>598</th>\n",
       "      <td>598</td>\n",
       "      <td>0.222276</td>\n",
       "      <td>-0.542811</td>\n",
       "      <td>-0.304348</td>\n",
       "      <td>0.381317</td>\n",
       "      <td>-0.208294</td>\n",
       "    </tr>\n",
       "  </tbody>\n",
       "</table>\n",
       "<p>599 rows × 6 columns</p>\n",
       "</div>"
      ],
      "text/plain": [
       "     index        V1        V2        V3        V4  average phenotypes\n",
       "0        0  1.671629 -1.727470 -1.890285  0.050916           -0.648708\n",
       "1        1 -0.252703  0.409522  0.309386 -1.738759            0.155402\n",
       "2        2  0.341815 -0.648626 -0.799559 -1.053569           -0.368790\n",
       "3        3  0.785439  0.093949  0.570468  0.551757            0.483285\n",
       "4        4  0.998318 -0.282481  1.618682 -0.114285            0.778173\n",
       "..     ...       ...       ...       ...       ...                 ...\n",
       "594    594 -1.248504  1.419042  1.574549  1.659656            0.581695\n",
       "595    595 -1.052126  0.082785  2.138355  0.554385            0.389671\n",
       "596    596 -1.209974  0.451963  2.022570  1.848717            0.421519\n",
       "597    597 -0.902397  0.527907  1.719077  2.692814            0.448196\n",
       "598    598  0.222276 -0.542811 -0.304348  0.381317           -0.208294\n",
       "\n",
       "[599 rows x 6 columns]"
      ]
     },
     "execution_count": 3,
     "metadata": {},
     "output_type": "execute_result"
    }
   ],
   "source": [
    "output = pd.read_csv(\"Phenotypes.csv\")\n",
    "output"
   ]
  },
  {
   "cell_type": "code",
   "execution_count": 4,
   "metadata": {},
   "outputs": [
    {
     "data": {
      "text/plain": [
       "(       wPt.0538  wPt.8463  wPt.6348  wPt.9992  wPt.2838  wPt.8266  wPt.1100  \\\n",
       " index                                                                         \n",
       " 0             0         1         1         1         1         0         1   \n",
       " 1             1         1         1         1         1         0         1   \n",
       " 2             1         1         1         1         1         0         1   \n",
       " 3             0         1         1         1         1         0         1   \n",
       " 4             0         1         1         1         1         0         1   \n",
       " ...         ...       ...       ...       ...       ...       ...       ...   \n",
       " 594           1         1         1         1         1         0         1   \n",
       " 595           0         1         1         1         1         0         1   \n",
       " 596           0         1         1         1         1         1         1   \n",
       " 597           1         0         1         1         1         0         1   \n",
       " 598           1         1         1         1         1         1         1   \n",
       " \n",
       "        wPt.0653  wPt.4418  wPt.2152  ...  c.408290  c.408294  c.408330  \\\n",
       " index                                ...                                 \n",
       " 0             1         1         1  ...         1         0         1   \n",
       " 1             1         0         1  ...         1         1         0   \n",
       " 2             1         0         1  ...         1         1         0   \n",
       " 3             1         1         1  ...         1         1         1   \n",
       " 4             1         1         1  ...         1         1         1   \n",
       " ...         ...       ...       ...  ...       ...       ...       ...   \n",
       " 594           1         0         1  ...         1         0         0   \n",
       " 595           1         1         1  ...         1         0         1   \n",
       " 596           1         1         1  ...         1         0         1   \n",
       " 597           1         1         1  ...         1         0         1   \n",
       " 598           1         1         1  ...         1         0         1   \n",
       " \n",
       "        c.408336  c.408375  c.408393  c.408422  c.408424  c.408426  c.408443  \n",
       " index                                                                        \n",
       " 0             1         1         0         0         0         0         1  \n",
       " 1             0         0         0         1         1         1         1  \n",
       " 2             0         0         0         1         1         1         1  \n",
       " 3             1         0         0         1         0         1         0  \n",
       " 4             1         1         0         0         0         1         1  \n",
       " ...         ...       ...       ...       ...       ...       ...       ...  \n",
       " 594           1         0         0         1         0         1         1  \n",
       " 595           1         0         0         0         1         0         1  \n",
       " 596           1         0         0         1         1         1         1  \n",
       " 597           0         0         0         0         1         1         0  \n",
       " 598           0         1         0         0         1         1         1  \n",
       " \n",
       " [599 rows x 1279 columns],\n",
       " 0     -0.648708\n",
       " 1      0.155402\n",
       " 2     -0.368790\n",
       " 3      0.483285\n",
       " 4      0.778173\n",
       "          ...   \n",
       " 594    0.581695\n",
       " 595    0.389671\n",
       " 596    0.421519\n",
       " 597    0.448196\n",
       " 598   -0.208294\n",
       " Name: average phenotypes, Length: 599, dtype: float64)"
      ]
     },
     "execution_count": 4,
     "metadata": {},
     "output_type": "execute_result"
    }
   ],
   "source": [
    "X = data\n",
    "y = output.iloc[:,-1]\n",
    "X,y"
   ]
  },
  {
   "cell_type": "markdown",
   "metadata": {},
   "source": [
    "SNPs are encoded: 0 means heterozygous and 1/-1 mean homozygous.  e.g.:\n",
    "* -1: AA\n",
    "* 0: AT\n",
    "* 1: TT\n"
   ]
  },
  {
   "cell_type": "markdown",
   "metadata": {},
   "source": [
    "# Initial data visualization"
   ]
  },
  {
   "cell_type": "code",
   "execution_count": null,
   "metadata": {},
   "outputs": [],
   "source": [
    "import matplotlib.pyplot as plt\n",
    "%matplotlib notebook\n",
    "%matplotlib notebook\n",
    "\n",
    "from sklearn.decomposition import PCA\n",
    "from mpl_toolkits import mplot3d\n",
    "\n",
    "fig = plt.figure()\n",
    "ax= plt.axes(projection='3d')\n",
    "\n",
    "pca = PCA(n_components=3)\n",
    "pca.fit(X)\n",
    "X_pca = pca.transform(X)\n",
    "\n",
    "ax.scatter3D(X_pca[:, 0], X_pca[:, 1], X_pca[:,2])\n",
    "plt.show()"
   ]
  },
  {
   "cell_type": "code",
   "execution_count": null,
   "metadata": {},
   "outputs": [],
   "source": [
    "import numpy as np\n",
    "hist, bin_edges = np.histogram(y)\n",
    "fig = plt.figure()\n",
    "plt.bar(bin_edges[:-1], hist, width=0.5)\n",
    "plt.show()"
   ]
  },
  {
   "cell_type": "code",
   "execution_count": 6,
   "metadata": {},
   "outputs": [],
   "source": [
    "\n",
    "from sklearn.model_selection import train_test_split\n",
    "\n",
    "split = 0.2 # use 20% of the data for testing.\n",
    "X_train, X_test, y_train, y_test = train_test_split(X, y, test_size=split, random_state=42)\n"
   ]
  },
  {
   "cell_type": "markdown",
   "metadata": {},
   "source": [
    "running this next cell takes around 2 minutes..."
   ]
  },
  {
   "cell_type": "code",
   "execution_count": 6,
   "metadata": {},
   "outputs": [
    {
     "name": "stdout",
     "output_type": "stream",
     "text": [
      "{'learning_rate': 0.01, 'max_depth': 4, 'n_estimators': 100}\n"
     ]
    }
   ],
   "source": [
    "from xgboost import XGBRegressor\n",
    "from sklearn.model_selection import GridSearchCV\n",
    "\n",
    "classifier = XGBRegressor(objective ='reg:squarederror')\n",
    "grid = {\n",
    "    'n_estimators': [10,50,100],\n",
    "    'max_depth' : [4,5,7,10],\n",
    "    'learning_rate' : [0.0001, 0.001, 0.01]\n",
    "}\n",
    "\n",
    "gd_sr = GridSearchCV(estimator=classifier,\n",
    "                       param_grid=grid,\n",
    "                       scoring='r2', # note the use of scoring here.\n",
    "                       cv=5, iid=False)\n",
    "\n",
    "\n",
    "gd_sr.fit(X_train, y_train)\n",
    "\n",
    "best_parameters = gd_sr.best_params_\n",
    "print(best_parameters)\n",
    " \n"
   ]
  },
  {
   "cell_type": "code",
   "execution_count": 7,
   "metadata": {},
   "outputs": [
    {
     "data": {
      "text/plain": [
       "XGBRegressor(learning_rate=0.01, max_depth=4, objective='reg:squarederror')"
      ]
     },
     "execution_count": 7,
     "metadata": {},
     "output_type": "execute_result"
    }
   ],
   "source": [
    "best_clf = XGBRegressor(objective='reg:squarederror',\n",
    "                        n_estimators=best_parameters['n_estimators'], \n",
    "                        max_depth=best_parameters['max_depth'], \n",
    "                        learning_rate=best_parameters['learning_rate'])\n",
    "\n",
    "# has best set of parameters, now retrain on all training data.\n",
    "\n",
    "best_clf.fit(X_train,y_train)"
   ]
  },
  {
   "cell_type": "code",
   "execution_count": 8,
   "metadata": {},
   "outputs": [],
   "source": [
    "y_pred = best_clf.predict(X_test)\n",
    "y_pred_tr = best_clf.predict(X_train)"
   ]
  },
  {
   "cell_type": "markdown",
   "metadata": {},
   "source": [
    "# How did we do?\n",
    "\n",
    "plot actual values vs predcited for training set."
   ]
  },
  {
   "cell_type": "code",
   "execution_count": 9,
   "metadata": {},
   "outputs": [
    {
     "data": {
      "image/png": "[encoded data removed]",
      "text/plain": [
       "<Figure size 432x288 with 1 Axes>"
      ]
     },
     "metadata": {
      "needs_background": "light"
     },
     "output_type": "display_data"
    }
   ],
   "source": [
    "%matplotlib inline\n",
    "import matplotlib.pyplot as plt\n",
    "plt.xlabel(\"Actual values\")\n",
    "plt.ylabel(\"Predicted values\")\n",
    "plt.plot(y_test, y_pred, 'o', color='black')\n",
    "plt.plot(y_train,y_pred_tr, 'x', color='red')\n",
    "plt.show()\n",
    "\n"
   ]
  },
  {
   "cell_type": "code",
   "execution_count": 10,
   "metadata": {},
   "outputs": [
    {
     "name": "stdout",
     "output_type": "stream",
     "text": [
      "Training set: 0.32455424788115683\n",
      "Test set: 0.057979114874756266\n"
     ]
    }
   ],
   "source": [
    "from sklearn.metrics import r2_score\n",
    "# we use r2 because we are doing regression, not classification\n",
    "print('Training set:',r2_score(y_train,y_pred_tr))\n",
    "print('Test set:',r2_score(y_test,y_pred))"
   ]
  },
  {
   "cell_type": "markdown",
   "metadata": {},
   "source": [
    "It's not predicting in the full range"
   ]
  },
  {
   "cell_type": "markdown",
   "metadata": {},
   "source": [
    "# Use SVM, Feature Selection and Feature Extraction"
   ]
  },
  {
   "cell_type": "markdown",
   "metadata": {},
   "source": [
    "First, take some data to do feature selection\n",
    "\n",
    "Remember X_train, y_train are our data sets"
   ]
  },
  {
   "cell_type": "code",
   "execution_count": 7,
   "metadata": {},
   "outputs": [
    {
     "name": "stdout",
     "output_type": "stream",
     "text": [
      "before selecting: (383, 1279)\n",
      "after selecting: (383, 500)\n"
     ]
    },
    {
     "name": "stderr",
     "output_type": "stream",
     "text": [
      "C:\\Users\\SkyMa\\anaconda3\\lib\\site-packages\\sklearn\\feature_selection\\_univariate_selection.py:302: RuntimeWarning: divide by zero encountered in true_divide\n",
      "  corr /= X_norms\n",
      "C:\\Users\\SkyMa\\anaconda3\\lib\\site-packages\\sklearn\\feature_selection\\_univariate_selection.py:302: RuntimeWarning: invalid value encountered in true_divide\n",
      "  corr /= X_norms\n",
      "C:\\Users\\SkyMa\\anaconda3\\lib\\site-packages\\sklearn\\feature_selection\\_univariate_selection.py:307: RuntimeWarning: invalid value encountered in true_divide\n",
      "  F = corr ** 2 / (1 - corr ** 2) * degrees_of_freedom\n",
      "C:\\Users\\SkyMa\\anaconda3\\lib\\site-packages\\scipy\\stats\\_distn_infrastructure.py:903: RuntimeWarning: invalid value encountered in greater\n",
      "  return (a < x) & (x < b)\n",
      "C:\\Users\\SkyMa\\anaconda3\\lib\\site-packages\\scipy\\stats\\_distn_infrastructure.py:903: RuntimeWarning: invalid value encountered in less\n",
      "  return (a < x) & (x < b)\n",
      "C:\\Users\\SkyMa\\anaconda3\\lib\\site-packages\\scipy\\stats\\_distn_infrastructure.py:1912: RuntimeWarning: invalid value encountered in less_equal\n",
      "  cond2 = cond0 & (x <= _a)\n"
     ]
    }
   ],
   "source": [
    "\n",
    "from sklearn.feature_selection import SelectKBest, f_regression\n",
    "\n",
    "# do train-test split to get sample to do feature selection\n",
    "\n",
    "split= 0.20 # use 20% for feature selection\n",
    "X_train_FS, X_FS, y_train_FS, y_FS = train_test_split(X_train, y_train, test_size=split)\n",
    "\n",
    "print('before selecting:', X_train_FS.shape)\n",
    "skb = SelectKBest(f_regression, k=500)\n",
    "skb.fit(X_FS,y_FS)\n",
    "X_train_FS = skb.transform(X_train_FS)\n",
    "print('after selecting:', X_train_FS.shape)\n"
   ]
  },
  {
   "cell_type": "markdown",
   "metadata": {},
   "source": [
    "This next cell takes around 2 minutes. \n",
    "This is even though we have reduced the number of features to 500."
   ]
  },
  {
   "cell_type": "code",
   "execution_count": 9,
   "metadata": {},
   "outputs": [
    {
     "name": "stdout",
     "output_type": "stream",
     "text": [
      "{'C': 0.01}\n"
     ]
    }
   ],
   "source": [
    "from sklearn.svm import SVR\n",
    "from sklearn.model_selection import GridSearchCV\n",
    "\n",
    "classifier = SVR(kernel='linear') \n",
    "\n",
    "grid = {\n",
    "    'C' : [10**i for i in range(-10,10,1)] \n",
    "   }\n",
    "\n",
    "gd_sr = GridSearchCV(estimator=classifier,\n",
    "                       param_grid=grid,\n",
    "                       scoring='r2', # note the use of scoring here.\n",
    "                       cv=5, iid=False)\n",
    "\n",
    "\n",
    "gd_sr.fit(X_train_FS, y_train_FS)\n",
    "\n",
    "best_parameters = gd_sr.best_params_\n",
    "print(best_parameters)\n",
    " \n"
   ]
  },
  {
   "cell_type": "code",
   "execution_count": 10,
   "metadata": {},
   "outputs": [
    {
     "data": {
      "text/plain": [
       "SVR(C=0.01, kernel='linear')"
      ]
     },
     "execution_count": 10,
     "metadata": {},
     "output_type": "execute_result"
    }
   ],
   "source": [
    "best_clf = SVR(kernel='linear',C=best_parameters['C'])\n",
    "best_clf.fit(X_train,y_train)\n"
   ]
  },
  {
   "cell_type": "code",
   "execution_count": 11,
   "metadata": {},
   "outputs": [],
   "source": [
    "y_pred = best_clf.predict(X_test)\n",
    "y_pred_tr = best_clf.predict(X_train)"
   ]
  },
  {
   "cell_type": "code",
   "execution_count": 13,
   "metadata": {},
   "outputs": [
    {
     "data": {
      "image/png": "[encoded data removed]",
      "text/plain": [
       "<Figure size 432x288 with 1 Axes>"
      ]
     },
     "metadata": {
      "needs_background": "light"
     },
     "output_type": "display_data"
    }
   ],
   "source": [
    "%matplotlib inline\n",
    "import matplotlib.pyplot as plt\n",
    "plt.xlabel(\"Actual values\")\n",
    "plt.ylabel(\"Predicted values\")\n",
    "plt.plot(y_test, y_pred, 'o', color='black')\n",
    "plt.plot(y_train,y_pred_tr, 'x', color='red')\n",
    "\n",
    "plt.show()\n"
   ]
  },
  {
   "cell_type": "code",
   "execution_count": 15,
   "metadata": {},
   "outputs": [
    {
     "name": "stdout",
     "output_type": "stream",
     "text": [
      "Training set: 0.7521055592175273\n",
      "Test set: 0.17229402262392224\n"
     ]
    }
   ],
   "source": [
    "from sklearn.metrics import r2_score\n",
    "print('Training set:',r2_score(y_train,y_pred_tr))\n",
    "print('Test set:',r2_score(y_test,y_pred))"
   ]
  },
  {
   "cell_type": "code",
   "execution_count": 16,
   "metadata": {},
   "outputs": [],
   "source": [
    "from sklearn.feature_selection import RFE\n",
    "sel = RFE(best_clf,20,5)"
   ]
  },
  {
   "cell_type": "code",
   "execution_count": 17,
   "metadata": {},
   "outputs": [],
   "source": [
    "sel = sel.fit(X_test, y_test)"
   ]
  },
  {
   "cell_type": "code",
   "execution_count": 18,
   "metadata": {},
   "outputs": [
    {
     "name": "stdout",
     "output_type": "stream",
     "text": [
      "[ 113  188  193  211  235  398  405  415  521  549  553  710  795  844\n",
      "  907 1041 1093 1123 1175 1258]\n"
     ]
    }
   ],
   "source": [
    "print(np.argwhere(sel.ranking_ == 1).ravel()) # this code finds the feature numbers that are ranked first"
   ]
  },
  {
   "cell_type": "markdown",
   "metadata": {},
   "source": [
    "# can we do better with RBF kernel?"
   ]
  },
  {
   "cell_type": "code",
   "execution_count": 19,
   "metadata": {},
   "outputs": [
    {
     "name": "stdout",
     "output_type": "stream",
     "text": [
      "{'C': 1, 'gamma': 0.015625}\n"
     ]
    }
   ],
   "source": [
    "classifier = SVR(kernel='rbf') \n",
    "\n",
    "grid = {\n",
    "    'C' : [10**i for i in range(-10,10,2)] ,\n",
    "    'gamma' : [2**i for i in range(-10,10,2)]\n",
    "   }\n",
    "\n",
    "gd_sr = GridSearchCV(estimator=classifier,\n",
    "                       param_grid=grid,\n",
    "                       scoring='r2', # note the use of scoring here.\n",
    "                       cv=5, iid=False)\n",
    "\n",
    "\n",
    "gd_sr.fit(X_train_FS, y_train_FS)\n",
    "\n",
    "best_parameters = gd_sr.best_params_\n",
    "print(best_parameters)\n",
    " \n"
   ]
  },
  {
   "cell_type": "code",
   "execution_count": 20,
   "metadata": {},
   "outputs": [
    {
     "data": {
      "text/plain": [
       "SVR(C=1)"
      ]
     },
     "execution_count": 20,
     "metadata": {},
     "output_type": "execute_result"
    }
   ],
   "source": [
    "best_clf = SVR(kernel='rbf',C=best_parameters['C'])\n",
    "best_clf.fit(X_train,y_train)\n"
   ]
  },
  {
   "cell_type": "code",
   "execution_count": 21,
   "metadata": {},
   "outputs": [
    {
     "data": {
      "image/png": "[encoded data removed]",
      "text/plain": [
       "<Figure size 432x288 with 1 Axes>"
      ]
     },
     "metadata": {
      "needs_background": "light"
     },
     "output_type": "display_data"
    }
   ],
   "source": [
    "y_pred = best_clf.predict(X_test)\n",
    "y_pred_tr = best_clf.predict(X_train)\n",
    "plt.xlabel(\"Actual values\")\n",
    "plt.ylabel(\"Predicted values\")\n",
    "plt.plot(y_test, y_pred, 'o', color='black')\n",
    "plt.plot(y_train,y_pred_tr, 'x', color='red')\n",
    "\n",
    "plt.show()\n"
   ]
  },
  {
   "cell_type": "code",
   "execution_count": 22,
   "metadata": {},
   "outputs": [
    {
     "name": "stdout",
     "output_type": "stream",
     "text": [
      "Training set: 0.759576948858448\n",
      "Test set: 0.22175732664604253\n"
     ]
    }
   ],
   "source": [
    "print('Training set:',r2_score(y_train,y_pred_tr))\n",
    "print('Test set:',r2_score(y_test,y_pred))"
   ]
  },
  {
   "cell_type": "markdown",
   "metadata": {},
   "source": [
    "We can't easily do feature ranking with an RBF kernel."
   ]
  },
  {
   "cell_type": "markdown",
   "metadata": {},
   "source": [
    "#### From conversation\n",
    "* SVR(kernel=\"\")\n",
    "* do another visualization\n",
    "* put it into bins\n",
    "    * discrete number of bins\n",
    "    * put into the plot\n",
    "    * put colors into 3d graph\n",
    "    * prediction to different halfs\n",
    "* Suggestions\n",
    "    * stratification (Cross validation)\n",
    "    * equal proportion on 0 and 1\n",
    "* Smarter to look at what is data telling us"
   ]
  },
  {
   "cell_type": "markdown",
   "metadata": {},
   "source": [
    "similar to XGBoost\n",
    "models for a lot of features\n",
    "random forest!!\n",
    "manage overfeeting\n",
    "n-nearest neighbors\n",
    "grid search with a num"
   ]
  }
 ],
 "metadata": {
  "kernelspec": {
   "display_name": "Python 3",
   "language": "python",
   "name": "python3"
  },
  "language_info": {
   "codemirror_mode": {
    "name": "ipython",
    "version": 3
   },
   "file_extension": ".py",
   "mimetype": "text/x-python",
   "name": "python",
   "nbconvert_exporter": "python",
   "pygments_lexer": "ipython3",
   "version": "3.7.6"
  }
 },
 "nbformat": 4,
 "nbformat_minor": 2
}
