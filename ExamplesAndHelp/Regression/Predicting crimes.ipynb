{
 "cells": [
  {
   "cell_type": "markdown",
   "metadata": {},
   "source": [
    "### Features description\n",
    "\n",
    "- state: US state (by number) - not counted as predictive above, but if considered, should be consided nominal (nominal) \n",
    "- county: numeric code for county - not predictive, and many missing values (numeric) \n",
    "- community: numeric code for community - not predictive and many missing values (numeric) \n",
    "- communityname: community name - not predictive - for information only (string) \n",
    "- fold: fold number for non-random 10 fold cross validation, potentially useful for debugging, paired tests - not predictive (numeric) \n",
    "- population: population for community: (numeric - decimal) \n",
    "- householdsize: mean people per household (numeric - decimal) \n",
    "- racepctblack: percentage of population that is african american (numeric - decimal) \n",
    "- racePctWhite: percentage of population that is caucasian (numeric - decimal) \n",
    "- racePctAsian: percentage of population that is of asian heritage (numeric - decimal) \n",
    "- racePctHisp: percentage of population that is of hispanic heritage (numeric - decimal) \n",
    "- agePct12t21: percentage of population that is 12-21 in age (numeric - decimal) \n",
    "- agePct12t29: percentage of population that is 12-29 in age (numeric - decimal) \n",
    "- agePct16t24: percentage of population that is 16-24 in age (numeric - decimal) \n",
    "- agePct65up: percentage of population that is 65 and over in age (numeric - decimal) \n",
    "- numbUrban: number of people living in areas classified as urban (numeric - decimal) \n",
    "- pctUrban: percentage of people living in areas classified as urban (numeric - decimal) \n",
    "- medIncome: median household income (numeric - decimal) \n",
    "- pctWWage: percentage of households with wage or salary income in 1989 (numeric - decimal) \n",
    "- pctWFarmSelf: percentage of households with farm or self employment income in 1989 (numeric - decimal) \n",
    "- pctWInvInc: percentage of households with investment / rent income in 1989 (numeric - decimal) \n",
    "- pctWSocSec: percentage of households with social security income in 1989 (numeric - decimal) \n",
    "- pctWPubAsst: percentage of households with public assistance income in 1989 (numeric - decimal) \n",
    "- pctWRetire: percentage of households with retirement income in 1989 (numeric - decimal) \n",
    "- medFamInc: median family income (differs from household income for non-family households) (numeric - decimal) \n",
    "- perCapInc: per capita income (numeric - decimal) \n",
    "- whitePerCap: per capita income for caucasians (numeric - decimal) \n",
    "- blackPerCap: per capita income for african americans (numeric - decimal) \n",
    "- indianPerCap: per capita income for native americans (numeric - decimal) \n",
    "- AsianPerCap: per capita income for people with asian heritage (numeric - decimal) \n",
    "- OtherPerCap: per capita income for people with 'other' heritage (numeric - decimal) \n",
    "- HispPerCap: per capita income for people with hispanic heritage (numeric - decimal) \n",
    "- NumUnderPov: number of people under the poverty level (numeric - decimal) \n",
    "- PctPopUnderPov: percentage of people under the poverty level (numeric - decimal) \n",
    "- PctLess9thGrade: percentage of people 25 and over with less than a 9th grade education (numeric - decimal) \n",
    "- PctNotHSGrad: percentage of people 25 and over that are not high school graduates (numeric - decimal) \n",
    "- PctBSorMore: percentage of people 25 and over with a bachelors degree or higher education (numeric - decimal) \n",
    "- PctUnemployed: percentage of people 16 and over, in the labor force, and unemployed (numeric - decimal) \n",
    "- PctEmploy: percentage of people 16 and over who are employed (numeric - decimal) \n",
    "- PctEmplManu: percentage of people 16 and over who are employed in manufacturing (numeric - decimal) \n",
    "- PctEmplProfServ: percentage of people 16 and over who are employed in professional services (numeric - decimal) \n",
    "- PctOccupManu: percentage of people 16 and over who are employed in manufacturing (numeric - decimal) ######## \n",
    "- PctOccupMgmtProf: percentage of people 16 and over who are employed in management or professional occupations (numeric - decimal) \n",
    "- MalePctDivorce: percentage of males who are divorced (numeric - decimal) \n",
    "- MalePctNevMarr: percentage of males who have never married (numeric - decimal) \n",
    "- FemalePctDiv: percentage of females who are divorced (numeric - decimal) \n",
    "- TotalPctDiv: percentage of population who are divorced (numeric - decimal) \n",
    "- PersPerFam: mean number of people per family (numeric - decimal) \n",
    "- PctFam2Par: percentage of families (with kids) that are headed by two parents (numeric - decimal) \n",
    "- PctKids2Par: percentage of kids in family housing with two parents (numeric - decimal) \n",
    "- PctYoungKids2Par: percent of kids 4 and under in two parent households (numeric - decimal) \n",
    "- PctTeen2Par: percent of kids age 12-17 in two parent households (numeric - decimal) \n",
    "- PctWorkMomYoungKids: percentage of moms of kids 6 and under in labor force (numeric - decimal) \n",
    "- PctWorkMom: percentage of moms of kids under 18 in labor force (numeric - decimal) \n",
    "- NumIlleg: number of kids born to never married (numeric - decimal) \n",
    " PctIlleg: percentage of kids born to never married (numeric - decimal) \n",
    "- NumImmig: total number of people known to be foreign born (numeric - decimal) \n",
    "- PctImmigRecent: percentage of _immigrants_ who immigated within last 3 years (numeric - decimal) \n",
    "- PctImmigRec5: percentage of _immigrants_ who immigated within last 5 years (numeric - decimal) \n",
    "- PctImmigRec8: percentage of _immigrants_ who immigated within last 8 years (numeric - decimal) \n",
    "- PctImmigRec10: percentage of _immigrants_ who immigated within last 10 years (numeric - decimal) \n",
    "- PctRecentImmig: percent of _population_ who have immigrated within the last 3 years (numeric - decimal) \n",
    "- PctRecImmig5: percent of _population_ who have immigrated within the last 5 years (numeric - decimal) \n",
    "- PctRecImmig8: percent of _population_ who have immigrated within the last 8 years (numeric - decimal) \n",
    "- PctRecImmig10: percent of _population_ who have immigrated within the last 10 years (numeric - decimal) \n",
    "- PctSpeakEnglOnly: percent of people who speak only English (numeric - decimal) \n",
    "- PctNotSpeakEnglWell: percent of people who do not speak English well (numeric - decimal) \n",
    "- PctLargHouseFam: percent of family households that are large (6 or more) (numeric - decimal) \n",
    "- PctLargHouseOccup: percent of all occupied households that are large (6 or more people) (numeric - decimal) \n",
    "- PersPerOccupHous: mean persons per household (numeric - decimal) \n",
    "- PersPerOwnOccHous: mean persons per owner occupied household (numeric - decimal) \n",
    "- PersPerRentOccHous: mean persons per rental household (numeric - decimal) \n",
    "- PctPersOwnOccup: percent of people in owner occupied households (numeric - decimal) \n",
    "- PctPersDenseHous: percent of persons in dense housing (more than 1 person per room) (numeric - decimal) \n",
    "- PctHousLess3BR: percent of housing units with less than 3 bedrooms (numeric - decimal) \n",
    "- MedNumBR: median number of bedrooms (numeric - decimal) \n",
    "- HousVacant: number of vacant households (numeric - decimal) \n",
    "- PctHousOccup: percent of housing occupied (numeric - decimal) \n",
    "- PctHousOwnOcc: percent of households owner occupied (numeric - decimal) \n",
    "- PctVacantBoarded: percent of vacant housing that is boarded up (numeric - decimal) \n",
    "- PctVacMore6Mos: percent of vacant housing that has been vacant more than 6 months (numeric - decimal) \n",
    "- MedYrHousBuilt: median year housing units built (numeric - decimal) \n",
    "- PctHousNoPhone: percent of occupied housing units without phone (in 1990, this was rare!) (numeric - decimal) \n",
    "- PctWOFullPlumb: percent of housing without complete plumbing facilities (numeric - decimal) \n",
    "- OwnOccLowQuart: owner occupied housing - lower quartile value (numeric - decimal) \n",
    "- OwnOccMedVal: owner occupied housing - median value (numeric - decimal) \n",
    "- OwnOccHiQuart: owner occupied housing - upper quartile value (numeric - decimal) \n",
    "- RentLowQ: rental housing - lower quartile rent (numeric - decimal) \n",
    "- RentMedian: rental housing - median rent (Census variable H32B from file STF1A) (numeric - decimal) \n",
    "- RentHighQ: rental housing - upper quartile rent (numeric - decimal) \n",
    "- MedRent: median gross rent (Census variable H43A from file STF3A - includes utilities) (numeric - decimal) \n",
    "- MedRentPctHousInc: median gross rent as a percentage of household income (numeric - decimal) \n",
    "- MedOwnCostPctInc: median owners cost as a percentage of household income - for owners with a mortgage (numeric - decimal) \n",
    "- MedOwnCostPctIncNoMtg: median owners cost as a percentage of household income - for owners without a mortgage (numeric - decimal) \n",
    "- NumInShelters: number of people in homeless shelters (numeric - decimal) \n",
    "- NumStreet: number of homeless people counted in the street (numeric - decimal) \n",
    "- PctForeignBorn: percent of people foreign born (numeric - decimal) \n",
    "- PctBornSameState: percent of people born in the same state as currently living (numeric - decimal) \n",
    "- PctSameHouse85: percent of people living in the same house as in 1985 (5 years before) (numeric - decimal) \n",
    "- PctSameCity85: percent of people living in the same city as in 1985 (5 years before) (numeric - decimal) \n",
    "- PctSameState85: percent of people living in the same state as in 1985 (5 years before) (numeric - decimal) \n",
    "- LemasSwornFT: number of sworn full time police officers (numeric - decimal) \n",
    "- LemasSwFTPerPop: sworn full time police officers per 100K population (numeric - decimal) \n",
    "- LemasSwFTFieldOps: number of sworn full time police officers in field operations (on the street as opposed to administrative etc) (numeric - decimal) \n",
    "- LemasSwFTFieldPerPop: sworn full time police officers in field operations (on the street as opposed to administrative etc) per 100K population (numeric - decimal) \n",
    "- LemasTotalReq: total requests for police (numeric - decimal) \n",
    "- LemasTotReqPerPop: total requests for police per 100K popuation (numeric - decimal) \n",
    "- PolicReqPerOffic: total requests for police per police officer (numeric - decimal) \n",
    "- PolicPerPop: police officers per 100K population (numeric - decimal) \n",
    "- RacialMatchCommPol: a measure of the racial match between the community and the police force. High values indicate proportions in community and police force are similar (numeric - decimal) \n",
    "- PctPolicWhite: percent of police that are caucasian (numeric - decimal) \n",
    "- PctPolicBlack: percent of police that are african american (numeric - decimal) \n",
    "- PctPolicHisp: percent of police that are hispanic (numeric - decimal) \n",
    "- PctPolicAsian: percent of police that are asian (numeric - decimal) \n",
    "- PctPolicMinor: percent of police that are minority of any kind (numeric - decimal) \n",
    "- OfficAssgnDrugUnits: number of officers assigned to special drug units (numeric - decimal) \n",
    "- NumKindsDrugsSeiz: number of different kinds of drugs seized (numeric - decimal) \n",
    "- PolicAveOTWorked: police average overtime worked (numeric - decimal) \n",
    "- LandArea: land area in square miles (numeric - decimal) \n",
    "- PopDens: population density in persons per square mile (numeric - decimal) \n",
    "- PctUsePubTrans: percent of people using public transit for commuting (numeric - decimal) \n",
    "- PolicCars: number of police cars (numeric - decimal) \n",
    "- PolicOperBudg: police operating budget (numeric - decimal) \n",
    "- LemasPctPolicOnPatr: percent of sworn full time police officers on patrol (numeric - decimal) \n",
    "- LemasGangUnitDeploy: gang unit deployed (numeric - decimal - but really ordinal - 0 means NO, 1 means YES, 0.5 means Part Time) \n",
    "- LemasPctOfficDrugUn: percent of officers assigned to drug units (numeric - decimal) \n",
    "- PolicBudgPerPop: police operating budget per population (numeric - decimal)\n",
    "#### We want to predict\n",
    "- ViolentCrimesPerPop: total number of violent crimes per 100K popuation (numeric - decimal) GOAL attribute (to be predicted) "
   ]
  },
  {
   "cell_type": "code",
   "execution_count": 10,
   "metadata": {},
   "outputs": [],
   "source": [
    "# Importing useful libraries\n",
    "import numpy as np\n",
    "import matplotlib.pyplot as plt\n",
    "import pandas as pd\n",
    "%matplotlib inline"
   ]
  },
  {
   "cell_type": "code",
   "execution_count": 11,
   "metadata": {},
   "outputs": [],
   "source": [
    "# importing useful objects\n",
    "from crime_dataset_headers import *\n",
    "# importing data\n",
    "data_url= 'https://archive.ics.uci.edu/ml/machine-learning-databases/communities/communities.data'\n",
    "crime = pd.read_csv(data_url, header=None, names=headers, na_values='?', index_col='communityname')"
   ]
  },
  {
   "cell_type": "markdown",
   "metadata": {},
   "source": [
    "### Here something whired is going on..."
   ]
  },
  {
   "cell_type": "code",
   "execution_count": 12,
   "metadata": {},
   "outputs": [],
   "source": [
    "# Deleting non predictive columns\n",
    "non_predictive = ['state','county', 'community', 'fold']\n",
    "crime.drop(non_predictive, axis=1, inplace=True)\n",
    "# Imputing one missing value !!!! I dont understand\n",
    "crime.loc['Natchezcity','OtherPerCap'] = crime['OtherPerCap'].mean()\n",
    "# Deleting columns with majority of missing values (Some of the cols has '?' as a value)\n",
    "missing_values_per_col = crime.isnull().sum()\n",
    "cols_to_remove = missing_values_per_col[missing_values_per_col > 0].index\n",
    "crime.drop(cols_to_remove, axis=1, inplace=True)"
   ]
  },
  {
   "cell_type": "markdown",
   "metadata": {},
   "source": [
    "### How the methods in the first line are used is unknown... We really need to study pandas"
   ]
  },
  {
   "cell_type": "code",
   "execution_count": 15,
   "metadata": {},
   "outputs": [
    {
     "data": {
      "text/plain": [
       "['PctKids2Par',\n",
       " 'PctIlleg',\n",
       " 'PctFam2Par',\n",
       " 'racePctWhite',\n",
       " 'PctYoungKids2Par',\n",
       " 'PctTeen2Par',\n",
       " 'racepctblack',\n",
       " 'pctWInvInc',\n",
       " 'pctWPubAsst',\n",
       " 'FemalePctDiv']"
      ]
     },
     "execution_count": 15,
     "metadata": {},
     "output_type": "execute_result"
    }
   ],
   "source": [
    "# Features with the highest correlation with the target\n",
    "top_corr_features = crime.corr().loc['ViolentCrimesPerPop'].apply(np.abs).sort_values(ascending=False).index[1:11]\n",
    "top_corr_features = list(top_corr_features)\n",
    "top_corr_features"
   ]
  },
  {
   "cell_type": "code",
   "execution_count": 16,
   "metadata": {},
   "outputs": [],
   "source": [
    "from sklearn.model_selection import train_test_split\n",
    "from sklearn.metrics import mean_squared_error"
   ]
  },
  {
   "cell_type": "code",
   "execution_count": 17,
   "metadata": {},
   "outputs": [],
   "source": [
    "target_name = 'ViolentCrimesPerPop'\n",
    "# We only want to train the model based on hight correlated features\n",
    "X = crime[top_corr_features]\n",
    "y = crime[target_name]\n",
    "X_train, X_test, y_train, y_test = train_test_split(X, y, test_size=0.2, random_state=12)"
   ]
  },
  {
   "cell_type": "code",
   "execution_count": 18,
   "metadata": {},
   "outputs": [],
   "source": [
    "models = pd.DataFrame(index=['top10_features_mse', 'full_model_mse'], columns=['NULL', 'MLR', 'KNN', 'LASSO'])"
   ]
  },
  {
   "cell_type": "markdown",
   "metadata": {},
   "source": [
    "## Making predictions with top 10 features"
   ]
  },
  {
   "cell_type": "markdown",
   "metadata": {},
   "source": [
    "### The NULL model: always predict the average of the target"
   ]
  },
  {
   "cell_type": "code",
   "execution_count": 19,
   "metadata": {},
   "outputs": [],
   "source": [
    "y_pred_null = y_train.mean()\n",
    "models.loc['top10_features_mse', 'NULL'] = mean_squared_error(y_pred=np.repeat(y_pred_null, y_test.size), y_true=y_test)"
   ]
  },
  {
   "cell_type": "markdown",
   "metadata": {},
   "source": [
    "### The Multiple Regeression model"
   ]
  },
  {
   "cell_type": "code",
   "execution_count": 20,
   "metadata": {},
   "outputs": [],
   "source": [
    "from sklearn.linear_model import LinearRegression\n",
    "linear_regression = LinearRegression()\n",
    "linear_regression.fit(X_train, y_train)\n",
    "models.loc['top10_features_mse', 'MLR'] = mean_squared_error(y_pred=linear_regression.predict(X_train), y_true=y_train)\n",
    "models.loc['top10_features_mse', 'MLR'] = mean_squared_error(y_pred=linear_regression.predict(X_test), y_true=y_test)"
   ]
  },
  {
   "cell_type": "markdown",
   "metadata": {},
   "source": [
    "### K-Nearest Neighbor Model"
   ]
  },
  {
   "cell_type": "code",
   "execution_count": 25,
   "metadata": {},
   "outputs": [],
   "source": [
    "from sklearn.neighbors import KNeighborsRegressor\n",
    "knn = KNeighborsRegressor(n_neighbors=10, weights='distance', metric='euclidean')\n",
    "knn.fit(X_train, y_train)\n",
    "models.loc['top10_features_mse', 'KNN'] = mean_squared_error(y_pred=knn.predict(X_test), y_true=y_test)"
   ]
  },
  {
   "cell_type": "markdown",
   "metadata": {},
   "source": [
    "### LASSO Model"
   ]
  },
  {
   "cell_type": "code",
   "execution_count": 26,
   "metadata": {},
   "outputs": [],
   "source": [
    "from sklearn.linear_model import Lasso\n",
    "lasso = Lasso(alpha=0.0001)\n",
    "lasso.fit(X_train, y_train)\n",
    "models.loc['top10_features_mse', 'LASSO'] = mean_squared_error(y_pred=lasso.predict(X_test), y_true=y_test)"
   ]
  },
  {
   "cell_type": "markdown",
   "metadata": {},
   "source": [
    "##### Lets print the models outputs"
   ]
  },
  {
   "cell_type": "code",
   "execution_count": 27,
   "metadata": {},
   "outputs": [
    {
     "data": {
      "text/html": [
       "<div>\n",
       "<style scoped>\n",
       "    .dataframe tbody tr th:only-of-type {\n",
       "        vertical-align: middle;\n",
       "    }\n",
       "\n",
       "    .dataframe tbody tr th {\n",
       "        vertical-align: top;\n",
       "    }\n",
       "\n",
       "    .dataframe thead th {\n",
       "        text-align: right;\n",
       "    }\n",
       "</style>\n",
       "<table border=\"1\" class=\"dataframe\">\n",
       "  <thead>\n",
       "    <tr style=\"text-align: right;\">\n",
       "      <th></th>\n",
       "      <th>NULL</th>\n",
       "      <th>MLR</th>\n",
       "      <th>KNN</th>\n",
       "      <th>LASSO</th>\n",
       "    </tr>\n",
       "  </thead>\n",
       "  <tbody>\n",
       "    <tr>\n",
       "      <th>top10_features_mse</th>\n",
       "      <td>0.0557338</td>\n",
       "      <td>0.0235119</td>\n",
       "      <td>0.0221343</td>\n",
       "      <td>0.023321</td>\n",
       "    </tr>\n",
       "    <tr>\n",
       "      <th>full_model_mse</th>\n",
       "      <td>NaN</td>\n",
       "      <td>NaN</td>\n",
       "      <td>NaN</td>\n",
       "      <td>NaN</td>\n",
       "    </tr>\n",
       "  </tbody>\n",
       "</table>\n",
       "</div>"
      ],
      "text/plain": [
       "                         NULL        MLR        KNN     LASSO\n",
       "top10_features_mse  0.0557338  0.0235119  0.0221343  0.023321\n",
       "full_model_mse            NaN        NaN        NaN       NaN"
      ]
     },
     "execution_count": 27,
     "metadata": {},
     "output_type": "execute_result"
    }
   ],
   "source": [
    "models"
   ]
  },
  {
   "cell_type": "markdown",
   "metadata": {},
   "source": [
    "#### Lets visualise the quantities"
   ]
  },
  {
   "cell_type": "code",
   "execution_count": 29,
   "metadata": {},
   "outputs": [
    {
     "data": {
      "text/plain": [
       "<matplotlib.legend.Legend at 0x22abc675f48>"
      ]
     },
     "execution_count": 29,
     "metadata": {},
     "output_type": "execute_result"
    },
    {
     "data": {
      "image/png": "[encoded data removed]",
      "text/plain": [
       "<Figure size 576x360 with 1 Axes>"
      ]
     },
     "metadata": {
      "needs_background": "light"
     },
     "output_type": "display_data"
    }
   ],
   "source": [
    "fig, ax = plt.subplots(figsize=(8,5))\n",
    "models.loc['top10_features_mse'].plot(kind='barh', ax=ax)\n",
    "ax.set_title('MSE for Regression Models Using top 10 correlated features')\n",
    "ax.legend(loc=3)"
   ]
  },
  {
   "cell_type": "markdown",
   "metadata": {},
   "source": [
    "# Using all the features"
   ]
  },
  {
   "cell_type": "code",
   "execution_count": 30,
   "metadata": {},
   "outputs": [],
   "source": [
    "target_name = 'ViolentCrimesPerPop'\n",
    "X = crime.drop('ViolentCrimesPerPop', axis=1)\n",
    "y = crime[target_name]\n",
    "X_train, X_test, y_train, y_test = train_test_split(X, y, test_size=0.2, random_state=13)"
   ]
  },
  {
   "cell_type": "markdown",
   "metadata": {},
   "source": [
    "### The NULL model"
   ]
  },
  {
   "cell_type": "code",
   "execution_count": 31,
   "metadata": {},
   "outputs": [],
   "source": [
    "y_pred_null = y_train.mean()\n",
    "models.loc['full_model_mse','NULL'] = mean_squared_error(y_pred=np.repeat(y_pred_null, y_test.size), y_true=y_test)"
   ]
  },
  {
   "cell_type": "markdown",
   "metadata": {},
   "source": [
    "## Multiple Linear Regression"
   ]
  },
  {
   "cell_type": "code",
   "execution_count": 32,
   "metadata": {},
   "outputs": [],
   "source": [
    "# 1. Import the estimator object (model)\n",
    "#from sklearn.linear_model import LinearRegression\n",
    "# 2. Create an instance of the estimator\n",
    "linear_regression = LinearRegression()\n",
    "# 3. Use the trainning data to train the estimator\n",
    "linear_regression.fit(X_train, y_train)\n",
    "# 4. Evaluate the model\n",
    "models.loc['full_model_mse','MLR'] = mean_squared_error(y_pred=linear_regression.predict(X_test), y_true=y_test)"
   ]
  },
  {
   "cell_type": "markdown",
   "metadata": {},
   "source": [
    "## K-Nearest Neighbor Model"
   ]
  },
  {
   "cell_type": "code",
   "execution_count": 33,
   "metadata": {},
   "outputs": [],
   "source": [
    "# 1. Import the estimator object (model)\n",
    "#from sklearn.neighbors import KNeighborsRegressor\n",
    "# 2. Create an instance of the estimator\n",
    "knn = KNeighborsRegressor(n_neighbors=10, weights='distance', metric='euclidean')\n",
    "# 3. Use the trainning data to train the estimator\n",
    "knn.fit(X_train, y_train)\n",
    "# 4. Evaluate the model\n",
    "models.loc['full_model_mse','KNN'] = mean_squared_error(y_pred=knn.predict(X_test), y_true=y_test)"
   ]
  },
  {
   "cell_type": "markdown",
   "metadata": {},
   "source": [
    "## Lasso"
   ]
  },
  {
   "cell_type": "code",
   "execution_count": 34,
   "metadata": {},
   "outputs": [],
   "source": [
    "# 1. Import the estimator object (model)\n",
    "#from sklearn.linear_model import Lasso\n",
    "# 2. Create an instance of the estimator\n",
    "lasso = Lasso(alpha=0.0005)\n",
    "# 3. Use the trainning data to train the estimator\n",
    "lasso.fit(X_train, y_train)\n",
    "# 4. Evaluate the model\n",
    "models.loc['full_model_mse','LASSO'] = mean_squared_error(y_pred=lasso.predict(X_test), y_true=y_test)"
   ]
  },
  {
   "cell_type": "markdown",
   "metadata": {},
   "source": [
    "### Lets prin the result of the experiment"
   ]
  },
  {
   "cell_type": "code",
   "execution_count": 35,
   "metadata": {},
   "outputs": [
    {
     "data": {
      "image/png": "[encoded data removed]",
      "text/plain": [
       "<Figure size 576x360 with 1 Axes>"
      ]
     },
     "metadata": {
      "needs_background": "light"
     },
     "output_type": "display_data"
    }
   ],
   "source": [
    "fig, ax = plt.subplots(figsize=(8,5))\n",
    "models.T.plot(kind='barh', ax=ax)\n",
    "ax.set_title('MSE for Regression Models')\n",
    "ax.legend(loc=3);"
   ]
  },
  {
   "cell_type": "code",
   "execution_count": 38,
   "metadata": {},
   "outputs": [
    {
     "data": {
      "text/html": [
       "<div>\n",
       "<style scoped>\n",
       "    .dataframe tbody tr th:only-of-type {\n",
       "        vertical-align: middle;\n",
       "    }\n",
       "\n",
       "    .dataframe tbody tr th {\n",
       "        vertical-align: top;\n",
       "    }\n",
       "\n",
       "    .dataframe thead th {\n",
       "        text-align: right;\n",
       "    }\n",
       "</style>\n",
       "<table border=\"1\" class=\"dataframe\">\n",
       "  <thead>\n",
       "    <tr style=\"text-align: right;\">\n",
       "      <th></th>\n",
       "      <th>NULL</th>\n",
       "      <th>MLR</th>\n",
       "      <th>KNN</th>\n",
       "      <th>LASSO</th>\n",
       "    </tr>\n",
       "  </thead>\n",
       "  <tbody>\n",
       "    <tr>\n",
       "      <th>top10_features_mse</th>\n",
       "      <td>0.0557338</td>\n",
       "      <td>0.0235119</td>\n",
       "      <td>0.0221343</td>\n",
       "      <td>0.023321</td>\n",
       "    </tr>\n",
       "    <tr>\n",
       "      <th>full_model_mse</th>\n",
       "      <td>0.0566808</td>\n",
       "      <td>0.0181601</td>\n",
       "      <td>0.0197478</td>\n",
       "      <td>0.0183203</td>\n",
       "    </tr>\n",
       "  </tbody>\n",
       "</table>\n",
       "</div>"
      ],
      "text/plain": [
       "                         NULL        MLR        KNN      LASSO\n",
       "top10_features_mse  0.0557338  0.0235119  0.0221343   0.023321\n",
       "full_model_mse      0.0566808  0.0181601  0.0197478  0.0183203"
      ]
     },
     "execution_count": 38,
     "metadata": {},
     "output_type": "execute_result"
    }
   ],
   "source": [
    "models"
   ]
  },
  {
   "cell_type": "code",
   "execution_count": 36,
   "metadata": {},
   "outputs": [
    {
     "name": "stdout",
     "output_type": "stream",
     "text": [
      "Features automatically choosen by Lasso:\n",
      "\n",
      "1.racepctblack\n",
      "2.pctUrban\n",
      "3.AsianPerCap\n",
      "4.OtherPerCap\n",
      "5.MalePctDivorce\n",
      "6.PctIlleg\n",
      "7.PctPersDenseHous\n",
      "8.HousVacant\n",
      "9.PctVacantBoarded\n",
      "10.MedRent\n",
      "11.MedRentPctHousInc\n",
      "12.NumInShelters\n",
      "13.NumStreet\n",
      "14.PctForeignBorn\n",
      "15.PctSameCity85\n",
      "16.LemasPctOfficDrugUn\n"
     ]
    }
   ],
   "source": [
    "print('Features automatically choosen by Lasso:\\n')\n",
    "for i,var in enumerate(X.columns[lasso.coef_>0]):\n",
    "    print(\"{}.{}\".format(i+1, var))"
   ]
  },
  {
   "cell_type": "markdown",
   "metadata": {},
   "source": [
    "## Predicting violent crime"
   ]
  },
  {
   "cell_type": "code",
   "execution_count": 37,
   "metadata": {},
   "outputs": [
    {
     "data": {
      "text/plain": [
       "Lasso(alpha=0.0005, copy_X=True, fit_intercept=True, max_iter=1000,\n",
       "      normalize=False, positive=False, precompute=False, random_state=None,\n",
       "      selection='cyclic', tol=0.0001, warm_start=False)"
      ]
     },
     "execution_count": 37,
     "metadata": {},
     "output_type": "execute_result"
    }
   ],
   "source": [
    "# Retraining the best model\n",
    "lasso_final = Lasso(alpha=0.0005)\n",
    "lasso_final.fit(X, y)"
   ]
  },
  {
   "cell_type": "code",
   "execution_count": 57,
   "metadata": {},
   "outputs": [
    {
     "data": {
      "text/plain": [
       "population             0.00\n",
       "householdsize          0.48\n",
       "racepctblack           0.01\n",
       "racePctWhite           0.99\n",
       "racePctAsian           0.02\n",
       "                       ... \n",
       "PctSameState85         0.88\n",
       "LandArea               0.06\n",
       "PopDens                0.04\n",
       "PctUsePubTrans         0.00\n",
       "LemasPctOfficDrugUn    0.00\n",
       "Name: Plymouthtown, Length: 100, dtype: float64"
      ]
     },
     "execution_count": 57,
     "metadata": {},
     "output_type": "execute_result"
    }
   ],
   "source": [
    "new_city_index = 1234\n",
    "new_city = crime.iloc[new_city_index]\n",
    "new_city_answer = new_city.loc['ViolentCrimesPerPop']\n",
    "new_city = new_city.drop(['ViolentCrimesPerPop'])\n",
    "new_city"
   ]
  },
  {
   "cell_type": "code",
   "execution_count": 58,
   "metadata": {},
   "outputs": [
    {
     "name": "stdout",
     "output_type": "stream",
     "text": [
      "Predicted: [0.04698792]\n",
      "Real: 0.04\n"
     ]
    }
   ],
   "source": [
    "final_answer = lasso_final.predict(new_city.values.reshape(1, -1))\n",
    "print('Predicted: {0}'.format(final_answer))\n",
    "print('Real: {0}'.format(new_city_answer))"
   ]
  },
  {
   "cell_type": "code",
   "execution_count": null,
   "metadata": {},
   "outputs": [],
   "source": []
  }
 ],
 "metadata": {
  "kernelspec": {
   "display_name": "Python 3",
   "language": "python",
   "name": "python3"
  },
  "language_info": {
   "codemirror_mode": {
    "name": "ipython",
    "version": 3
   },
   "file_extension": ".py",
   "mimetype": "text/x-python",
   "name": "python",
   "nbconvert_exporter": "python",
   "pygments_lexer": "ipython3",
   "version": "3.7.6"
  }
 },
 "nbformat": 4,
 "nbformat_minor": 4
}
